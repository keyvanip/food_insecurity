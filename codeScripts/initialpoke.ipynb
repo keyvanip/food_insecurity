{
 "cells": [
  {
   "cell_type": "raw",
   "metadata": {
    "vscode": {
     "languageId": "raw"
    }
   },
   "source": [
    "---\n",
    "title: Data Visualization Project\n",
    "author: Hannah Kim, Irene Tait, Parsa Keyvani, and Victoria Edmunds\n",
    "format:\n",
    "    html:\n",
    "        embed-resources: true\n",
    "---"
   ]
  },
  {
   "cell_type": "code",
   "execution_count": 204,
   "metadata": {},
   "outputs": [],
   "source": [
    "# import necessary variables\n",
    "import numpy as np\n",
    "import matplotlib.pyplot as plt\n",
    "import pandas as pd\n",
    "import seaborn as sns\n",
    "import plotly.express as px\n",
    "import geopandas as gpd\n",
    "import warnings\n",
    "warnings.filterwarnings('ignore')"
   ]
  },
  {
   "cell_type": "markdown",
   "metadata": {},
   "source": [
    "## Load the data"
   ]
  },
  {
   "cell_type": "code",
   "execution_count": 205,
   "metadata": {},
   "outputs": [
    {
     "data": {
      "text/html": [
       "<div>\n",
       "<style scoped>\n",
       "    .dataframe tbody tr th:only-of-type {\n",
       "        vertical-align: middle;\n",
       "    }\n",
       "\n",
       "    .dataframe tbody tr th {\n",
       "        vertical-align: top;\n",
       "    }\n",
       "\n",
       "    .dataframe thead th {\n",
       "        text-align: right;\n",
       "    }\n",
       "</style>\n",
       "<table border=\"1\" class=\"dataframe\">\n",
       "  <thead>\n",
       "    <tr style=\"text-align: right;\">\n",
       "      <th></th>\n",
       "      <th>Domain Code</th>\n",
       "      <th>Domain</th>\n",
       "      <th>Area Code (M49)</th>\n",
       "      <th>Area</th>\n",
       "      <th>Element Code</th>\n",
       "      <th>Element</th>\n",
       "      <th>Item Code</th>\n",
       "      <th>Item</th>\n",
       "      <th>Year Code</th>\n",
       "      <th>Year</th>\n",
       "      <th>Unit</th>\n",
       "      <th>Value</th>\n",
       "      <th>Flag</th>\n",
       "      <th>Flag Description</th>\n",
       "      <th>Note</th>\n",
       "    </tr>\n",
       "  </thead>\n",
       "  <tbody>\n",
       "    <tr>\n",
       "      <th>0</th>\n",
       "      <td>FS</td>\n",
       "      <td>Suite of Food Security Indicators</td>\n",
       "      <td>4</td>\n",
       "      <td>Afghanistan</td>\n",
       "      <td>6121</td>\n",
       "      <td>Value</td>\n",
       "      <td>21010</td>\n",
       "      <td>Average dietary energy supply adequacy (percen...</td>\n",
       "      <td>20002002</td>\n",
       "      <td>2000-2002</td>\n",
       "      <td>%</td>\n",
       "      <td>88</td>\n",
       "      <td>E</td>\n",
       "      <td>Estimated value</td>\n",
       "      <td>NaN</td>\n",
       "    </tr>\n",
       "    <tr>\n",
       "      <th>1</th>\n",
       "      <td>FS</td>\n",
       "      <td>Suite of Food Security Indicators</td>\n",
       "      <td>4</td>\n",
       "      <td>Afghanistan</td>\n",
       "      <td>6121</td>\n",
       "      <td>Value</td>\n",
       "      <td>21010</td>\n",
       "      <td>Average dietary energy supply adequacy (percen...</td>\n",
       "      <td>20012003</td>\n",
       "      <td>2001-2003</td>\n",
       "      <td>%</td>\n",
       "      <td>89</td>\n",
       "      <td>E</td>\n",
       "      <td>Estimated value</td>\n",
       "      <td>NaN</td>\n",
       "    </tr>\n",
       "    <tr>\n",
       "      <th>2</th>\n",
       "      <td>FS</td>\n",
       "      <td>Suite of Food Security Indicators</td>\n",
       "      <td>4</td>\n",
       "      <td>Afghanistan</td>\n",
       "      <td>6121</td>\n",
       "      <td>Value</td>\n",
       "      <td>21010</td>\n",
       "      <td>Average dietary energy supply adequacy (percen...</td>\n",
       "      <td>20022004</td>\n",
       "      <td>2002-2004</td>\n",
       "      <td>%</td>\n",
       "      <td>92</td>\n",
       "      <td>E</td>\n",
       "      <td>Estimated value</td>\n",
       "      <td>NaN</td>\n",
       "    </tr>\n",
       "    <tr>\n",
       "      <th>3</th>\n",
       "      <td>FS</td>\n",
       "      <td>Suite of Food Security Indicators</td>\n",
       "      <td>4</td>\n",
       "      <td>Afghanistan</td>\n",
       "      <td>6121</td>\n",
       "      <td>Value</td>\n",
       "      <td>21010</td>\n",
       "      <td>Average dietary energy supply adequacy (percen...</td>\n",
       "      <td>20032005</td>\n",
       "      <td>2003-2005</td>\n",
       "      <td>%</td>\n",
       "      <td>93</td>\n",
       "      <td>E</td>\n",
       "      <td>Estimated value</td>\n",
       "      <td>NaN</td>\n",
       "    </tr>\n",
       "    <tr>\n",
       "      <th>4</th>\n",
       "      <td>FS</td>\n",
       "      <td>Suite of Food Security Indicators</td>\n",
       "      <td>4</td>\n",
       "      <td>Afghanistan</td>\n",
       "      <td>6121</td>\n",
       "      <td>Value</td>\n",
       "      <td>21010</td>\n",
       "      <td>Average dietary energy supply adequacy (percen...</td>\n",
       "      <td>20042006</td>\n",
       "      <td>2004-2006</td>\n",
       "      <td>%</td>\n",
       "      <td>94</td>\n",
       "      <td>E</td>\n",
       "      <td>Estimated value</td>\n",
       "      <td>NaN</td>\n",
       "    </tr>\n",
       "  </tbody>\n",
       "</table>\n",
       "</div>"
      ],
      "text/plain": [
       "  Domain Code                             Domain  Area Code (M49)  \\\n",
       "0          FS  Suite of Food Security Indicators                4   \n",
       "1          FS  Suite of Food Security Indicators                4   \n",
       "2          FS  Suite of Food Security Indicators                4   \n",
       "3          FS  Suite of Food Security Indicators                4   \n",
       "4          FS  Suite of Food Security Indicators                4   \n",
       "\n",
       "          Area  Element Code Element Item Code  \\\n",
       "0  Afghanistan          6121   Value     21010   \n",
       "1  Afghanistan          6121   Value     21010   \n",
       "2  Afghanistan          6121   Value     21010   \n",
       "3  Afghanistan          6121   Value     21010   \n",
       "4  Afghanistan          6121   Value     21010   \n",
       "\n",
       "                                                Item  Year Code       Year  \\\n",
       "0  Average dietary energy supply adequacy (percen...   20002002  2000-2002   \n",
       "1  Average dietary energy supply adequacy (percen...   20012003  2001-2003   \n",
       "2  Average dietary energy supply adequacy (percen...   20022004  2002-2004   \n",
       "3  Average dietary energy supply adequacy (percen...   20032005  2003-2005   \n",
       "4  Average dietary energy supply adequacy (percen...   20042006  2004-2006   \n",
       "\n",
       "  Unit Value Flag Flag Description Note  \n",
       "0    %    88    E  Estimated value  NaN  \n",
       "1    %    89    E  Estimated value  NaN  \n",
       "2    %    92    E  Estimated value  NaN  \n",
       "3    %    93    E  Estimated value  NaN  \n",
       "4    %    94    E  Estimated value  NaN  "
      ]
     },
     "execution_count": 205,
     "metadata": {},
     "output_type": "execute_result"
    }
   ],
   "source": [
    "df = pd.read_csv('data/FAOSTAT_data.csv')\n",
    "df.head()"
   ]
  },
  {
   "cell_type": "markdown",
   "metadata": {},
   "source": [
    "## Clean and tidy the data"
   ]
  },
  {
   "cell_type": "code",
   "execution_count": 206,
   "metadata": {},
   "outputs": [],
   "source": [
    "# lowercase the columns and remove the space bar\n",
    "df.columns = df.columns.str.lower()\n",
    "df.columns = df.columns.str.replace(' ', '_')"
   ]
  },
  {
   "cell_type": "code",
   "execution_count": 207,
   "metadata": {},
   "outputs": [
    {
     "name": "stdout",
     "output_type": "stream",
     "text": [
      "domain_code              0\n",
      "domain                   0\n",
      "area_code_(m49)          0\n",
      "area                     0\n",
      "element_code             0\n",
      "element                  0\n",
      "item_code                0\n",
      "item                     0\n",
      "year_code                0\n",
      "year                     0\n",
      "unit                     0\n",
      "value                 9137\n",
      "flag                     0\n",
      "flag_description         0\n",
      "note                129132\n",
      "dtype: int64\n"
     ]
    }
   ],
   "source": [
    "# check the null values\n",
    "print(df.isnull().sum())\n",
    "\n",
    "# # drop the null values\n",
    "# df = df.dropna()\n",
    "\n",
    "# drop the columns that are not needed\n",
    "df = df.drop(['note'], axis=1)\n",
    "\n",
    "# change the column name\n",
    "df = df.rename(columns={'area': 'country'})"
   ]
  },
  {
   "cell_type": "code",
   "execution_count": 210,
   "metadata": {},
   "outputs": [],
   "source": [
    "# filter the data\n",
    "\n",
    "# per capita food supply variability (kcal/cap/day)\n",
    "df1 = df[df['item'] == 'Per capita food supply variability (kcal/cap/day)']\n",
    "\n",
    "# convert the value column to float\n",
    "df1['value'] = pd.to_numeric(df1['value'], errors='coerce')\n",
    "\n",
    "# group by country and item\n",
    "df1 = df1.groupby(['country', 'item'], as_index=False)['value'].mean()\n",
    "\n",
    "# round the value column\n",
    "df1['value'] = df1['value'].round(2)"
   ]
  },
  {
   "cell_type": "markdown",
   "metadata": {},
   "source": [
    "## Data Visualization\n",
    "\n",
    "Per Capita Food Supply Variability (kcal/cap/day)"
   ]
  },
  {
   "cell_type": "markdown",
   "metadata": {},
   "source": [
    "### First Plot"
   ]
  },
  {
   "cell_type": "code",
   "execution_count": 211,
   "metadata": {},
   "outputs": [
    {
     "data": {
      "application/vnd.plotly.v1+json": {
       "config": {
        "plotlyServerURL": "https://plot.ly"
       },
       "data": [
        {
         "coloraxis": "coloraxis",
         "geo": "geo",
         "hovertemplate": "<b>%{hovertext}</b><br><br>country=%{location}<br>value=%{z}<extra></extra>",
         "hovertext": [
          "Afghanistan",
          "Albania",
          "Algeria",
          "Angola",
          "Antigua and Barbuda",
          "Argentina",
          "Armenia",
          "Australia",
          "Austria",
          "Azerbaijan",
          "Bahamas",
          "Bangladesh",
          "Barbados",
          "Belarus",
          "Belgium",
          "Belize",
          "Benin",
          "Bermuda",
          "Bolivia (Plurinational State of)",
          "Bosnia and Herzegovina",
          "Botswana",
          "Brazil",
          "Brunei Darussalam",
          "Bulgaria",
          "Burkina Faso",
          "Cabo Verde",
          "Cambodia",
          "Cameroon",
          "Canada",
          "Central African Republic",
          "Chad",
          "Chile",
          "China",
          "China, Hong Kong SAR",
          "China, Macao SAR",
          "China, Taiwan Province of",
          "China, mainland",
          "Colombia",
          "Comoros",
          "Congo",
          "Costa Rica",
          "Croatia",
          "Cuba",
          "Cyprus",
          "Czechia",
          "Côte d'Ivoire",
          "Democratic People's Republic of Korea",
          "Democratic Republic of the Congo",
          "Denmark",
          "Djibouti",
          "Dominica",
          "Dominican Republic",
          "Ecuador",
          "Egypt",
          "El Salvador",
          "Estonia",
          "Eswatini",
          "Ethiopia",
          "Fiji",
          "Finland",
          "France",
          "French Polynesia",
          "Gabon",
          "Gambia",
          "Georgia",
          "Germany",
          "Ghana",
          "Greece",
          "Grenada",
          "Guatemala",
          "Guinea",
          "Guinea-Bissau",
          "Guyana",
          "Haiti",
          "Honduras",
          "Hungary",
          "Iceland",
          "India",
          "Indonesia",
          "Iran (Islamic Republic of)",
          "Iraq",
          "Ireland",
          "Israel",
          "Italy",
          "Jamaica",
          "Japan",
          "Jordan",
          "Kazakhstan",
          "Kenya",
          "Kiribati",
          "Kuwait",
          "Kyrgyzstan",
          "Lao People's Democratic Republic",
          "Latvia",
          "Lebanon",
          "Lesotho",
          "Liberia",
          "Libya",
          "Lithuania",
          "Luxembourg",
          "Madagascar",
          "Malawi",
          "Malaysia",
          "Maldives",
          "Mali",
          "Malta",
          "Mauritania",
          "Mauritius",
          "Mexico",
          "Mongolia",
          "Montenegro",
          "Morocco",
          "Mozambique",
          "Myanmar",
          "Namibia",
          "Nepal",
          "Netherlands (Kingdom of the)",
          "New Caledonia",
          "New Zealand",
          "Nicaragua",
          "Niger",
          "Nigeria",
          "North Macedonia",
          "Norway",
          "Oman",
          "Pakistan",
          "Panama",
          "Papua New Guinea",
          "Paraguay",
          "Peru",
          "Philippines",
          "Poland",
          "Portugal",
          "Republic of Korea",
          "Republic of Moldova",
          "Romania",
          "Russian Federation",
          "Rwanda",
          "Saint Kitts and Nevis",
          "Saint Lucia",
          "Saint Vincent and the Grenadines",
          "Samoa",
          "Sao Tome and Principe",
          "Saudi Arabia",
          "Senegal",
          "Serbia",
          "Seychelles",
          "Sierra Leone",
          "Slovakia",
          "Slovenia",
          "Solomon Islands",
          "Somalia",
          "South Africa",
          "Spain",
          "Sri Lanka",
          "Sudan",
          "Suriname",
          "Sweden",
          "Switzerland",
          "Syrian Arab Republic",
          "Tajikistan",
          "Thailand",
          "Timor-Leste",
          "Togo",
          "Trinidad and Tobago",
          "Tunisia",
          "Turkmenistan",
          "Türkiye",
          "Uganda",
          "Ukraine",
          "United Arab Emirates",
          "United Kingdom of Great Britain and Northern Ireland",
          "United Republic of Tanzania",
          "United States of America",
          "Uruguay",
          "Uzbekistan",
          "Vanuatu",
          "Venezuela (Bolivarian Republic of)",
          "Viet Nam",
          "Yemen",
          "Zambia",
          "Zimbabwe"
         ],
         "locationmode": "country names",
         "locations": [
          "Afghanistan",
          "Albania",
          "Algeria",
          "Angola",
          "Antigua and Barbuda",
          "Argentina",
          "Armenia",
          "Australia",
          "Austria",
          "Azerbaijan",
          "Bahamas",
          "Bangladesh",
          "Barbados",
          "Belarus",
          "Belgium",
          "Belize",
          "Benin",
          "Bermuda",
          "Bolivia (Plurinational State of)",
          "Bosnia and Herzegovina",
          "Botswana",
          "Brazil",
          "Brunei Darussalam",
          "Bulgaria",
          "Burkina Faso",
          "Cabo Verde",
          "Cambodia",
          "Cameroon",
          "Canada",
          "Central African Republic",
          "Chad",
          "Chile",
          "China",
          "China, Hong Kong SAR",
          "China, Macao SAR",
          "China, Taiwan Province of",
          "China, mainland",
          "Colombia",
          "Comoros",
          "Congo",
          "Costa Rica",
          "Croatia",
          "Cuba",
          "Cyprus",
          "Czechia",
          "Côte d'Ivoire",
          "Democratic People's Republic of Korea",
          "Democratic Republic of the Congo",
          "Denmark",
          "Djibouti",
          "Dominica",
          "Dominican Republic",
          "Ecuador",
          "Egypt",
          "El Salvador",
          "Estonia",
          "Eswatini",
          "Ethiopia",
          "Fiji",
          "Finland",
          "France",
          "French Polynesia",
          "Gabon",
          "Gambia",
          "Georgia",
          "Germany",
          "Ghana",
          "Greece",
          "Grenada",
          "Guatemala",
          "Guinea",
          "Guinea-Bissau",
          "Guyana",
          "Haiti",
          "Honduras",
          "Hungary",
          "Iceland",
          "India",
          "Indonesia",
          "Iran (Islamic Republic of)",
          "Iraq",
          "Ireland",
          "Israel",
          "Italy",
          "Jamaica",
          "Japan",
          "Jordan",
          "Kazakhstan",
          "Kenya",
          "Kiribati",
          "Kuwait",
          "Kyrgyzstan",
          "Lao People's Democratic Republic",
          "Latvia",
          "Lebanon",
          "Lesotho",
          "Liberia",
          "Libya",
          "Lithuania",
          "Luxembourg",
          "Madagascar",
          "Malawi",
          "Malaysia",
          "Maldives",
          "Mali",
          "Malta",
          "Mauritania",
          "Mauritius",
          "Mexico",
          "Mongolia",
          "Montenegro",
          "Morocco",
          "Mozambique",
          "Myanmar",
          "Namibia",
          "Nepal",
          "Netherlands (Kingdom of the)",
          "New Caledonia",
          "New Zealand",
          "Nicaragua",
          "Niger",
          "Nigeria",
          "North Macedonia",
          "Norway",
          "Oman",
          "Pakistan",
          "Panama",
          "Papua New Guinea",
          "Paraguay",
          "Peru",
          "Philippines",
          "Poland",
          "Portugal",
          "Republic of Korea",
          "Republic of Moldova",
          "Romania",
          "Russian Federation",
          "Rwanda",
          "Saint Kitts and Nevis",
          "Saint Lucia",
          "Saint Vincent and the Grenadines",
          "Samoa",
          "Sao Tome and Principe",
          "Saudi Arabia",
          "Senegal",
          "Serbia",
          "Seychelles",
          "Sierra Leone",
          "Slovakia",
          "Slovenia",
          "Solomon Islands",
          "Somalia",
          "South Africa",
          "Spain",
          "Sri Lanka",
          "Sudan",
          "Suriname",
          "Sweden",
          "Switzerland",
          "Syrian Arab Republic",
          "Tajikistan",
          "Thailand",
          "Timor-Leste",
          "Togo",
          "Trinidad and Tobago",
          "Tunisia",
          "Turkmenistan",
          "Türkiye",
          "Uganda",
          "Ukraine",
          "United Arab Emirates",
          "United Kingdom of Great Britain and Northern Ireland",
          "United Republic of Tanzania",
          "United States of America",
          "Uruguay",
          "Uzbekistan",
          "Vanuatu",
          "Venezuela (Bolivarian Republic of)",
          "Viet Nam",
          "Yemen",
          "Zambia",
          "Zimbabwe"
         ],
         "name": "",
         "type": "choropleth",
         "z": [
          42.55,
          42.05,
          34.09,
          70.82,
          3,
          53.27,
          57.59,
          46.09,
          44.82,
          72.41,
          35,
          28.77,
          51.45,
          64.86,
          18.88,
          37.68,
          35.73,
          14,
          31.64,
          71.27,
          30.18,
          35.18,
          28,
          37.14,
          30.41,
          41.86,
          37.82,
          42.86,
          36.23,
          46.95,
          66.36,
          20.45,
          14.68,
          45.18,
          37.86,
          18.09,
          15.32,
          38.77,
          38.65,
          51.59,
          32.45,
          60.45,
          60.23,
          59.59,
          53.23,
          32.5,
          24.32,
          21.35,
          29.73,
          53.05,
          43,
          42.73,
          59.05,
          30.5,
          31.45,
          48.68,
          67.36,
          33.86,
          55.95,
          29.68,
          41.27,
          25.41,
          29.77,
          49.73,
          58.95,
          28.86,
          52.45,
          39.68,
          12,
          38.5,
          48.64,
          53.86,
          53.05,
          38.59,
          34.18,
          61.77,
          42.05,
          29.41,
          20.05,
          40.5,
          33.09,
          46.27,
          40,
          35.41,
          27.5,
          24,
          47.91,
          46.45,
          36.86,
          52.23,
          58.32,
          52.68,
          30.27,
          45.95,
          88.18,
          60.09,
          46.59,
          53.53,
          58.82,
          21.06,
          31.36,
          42.27,
          31.27,
          8,
          30.36,
          24.95,
          34.5,
          28.23,
          23.14,
          35.86,
          116.06,
          30.91,
          96.14,
          29.45,
          52.45,
          22.05,
          29.82,
          18.64,
          31.27,
          28.68,
          31.77,
          34.77,
          63.18,
          38.09,
          69.18,
          27.45,
          63.73,
          19.41,
          78.18,
          30.14,
          37.73,
          27.91,
          23.27,
          36.64,
          79.18,
          44.95,
          31.95,
          60.45,
          4,
          21,
          30.77,
          33.82,
          34.09,
          51.55,
          33.64,
          89.41,
          52.88,
          60.59,
          47.14,
          33.64,
          40.59,
          21.47,
          23.41,
          29.73,
          34.14,
          42,
          31.09,
          25.05,
          29.64,
          44.12,
          28.64,
          29.32,
          41.14,
          31.14,
          33.45,
          33.27,
          40.5,
          24.5,
          49.95,
          46.45,
          58.68,
          22.05,
          36.05,
          28.41,
          35.09,
          59.68,
          58.18,
          113.32,
          23.77,
          47.27,
          35.86,
          31.23
         ]
        }
       ],
       "layout": {
        "coloraxis": {
         "colorbar": {
          "title": {
           "text": "value"
          }
         },
         "colorscale": [
          [
           0,
           "#0d0887"
          ],
          [
           0.1111111111111111,
           "#46039f"
          ],
          [
           0.2222222222222222,
           "#7201a8"
          ],
          [
           0.3333333333333333,
           "#9c179e"
          ],
          [
           0.4444444444444444,
           "#bd3786"
          ],
          [
           0.5555555555555556,
           "#d8576b"
          ],
          [
           0.6666666666666666,
           "#ed7953"
          ],
          [
           0.7777777777777778,
           "#fb9f3a"
          ],
          [
           0.8888888888888888,
           "#fdca26"
          ],
          [
           1,
           "#f0f921"
          ]
         ]
        },
        "geo": {
         "center": {},
         "domain": {
          "x": [
           0,
           1
          ],
          "y": [
           0,
           1
          ]
         }
        },
        "height": 800,
        "legend": {
         "tracegroupgap": 0
        },
        "template": {
         "data": {
          "bar": [
           {
            "error_x": {
             "color": "#2a3f5f"
            },
            "error_y": {
             "color": "#2a3f5f"
            },
            "marker": {
             "line": {
              "color": "#E5ECF6",
              "width": 0.5
             },
             "pattern": {
              "fillmode": "overlay",
              "size": 10,
              "solidity": 0.2
             }
            },
            "type": "bar"
           }
          ],
          "barpolar": [
           {
            "marker": {
             "line": {
              "color": "#E5ECF6",
              "width": 0.5
             },
             "pattern": {
              "fillmode": "overlay",
              "size": 10,
              "solidity": 0.2
             }
            },
            "type": "barpolar"
           }
          ],
          "carpet": [
           {
            "aaxis": {
             "endlinecolor": "#2a3f5f",
             "gridcolor": "white",
             "linecolor": "white",
             "minorgridcolor": "white",
             "startlinecolor": "#2a3f5f"
            },
            "baxis": {
             "endlinecolor": "#2a3f5f",
             "gridcolor": "white",
             "linecolor": "white",
             "minorgridcolor": "white",
             "startlinecolor": "#2a3f5f"
            },
            "type": "carpet"
           }
          ],
          "choropleth": [
           {
            "colorbar": {
             "outlinewidth": 0,
             "ticks": ""
            },
            "type": "choropleth"
           }
          ],
          "contour": [
           {
            "colorbar": {
             "outlinewidth": 0,
             "ticks": ""
            },
            "colorscale": [
             [
              0,
              "#0d0887"
             ],
             [
              0.1111111111111111,
              "#46039f"
             ],
             [
              0.2222222222222222,
              "#7201a8"
             ],
             [
              0.3333333333333333,
              "#9c179e"
             ],
             [
              0.4444444444444444,
              "#bd3786"
             ],
             [
              0.5555555555555556,
              "#d8576b"
             ],
             [
              0.6666666666666666,
              "#ed7953"
             ],
             [
              0.7777777777777778,
              "#fb9f3a"
             ],
             [
              0.8888888888888888,
              "#fdca26"
             ],
             [
              1,
              "#f0f921"
             ]
            ],
            "type": "contour"
           }
          ],
          "contourcarpet": [
           {
            "colorbar": {
             "outlinewidth": 0,
             "ticks": ""
            },
            "type": "contourcarpet"
           }
          ],
          "heatmap": [
           {
            "colorbar": {
             "outlinewidth": 0,
             "ticks": ""
            },
            "colorscale": [
             [
              0,
              "#0d0887"
             ],
             [
              0.1111111111111111,
              "#46039f"
             ],
             [
              0.2222222222222222,
              "#7201a8"
             ],
             [
              0.3333333333333333,
              "#9c179e"
             ],
             [
              0.4444444444444444,
              "#bd3786"
             ],
             [
              0.5555555555555556,
              "#d8576b"
             ],
             [
              0.6666666666666666,
              "#ed7953"
             ],
             [
              0.7777777777777778,
              "#fb9f3a"
             ],
             [
              0.8888888888888888,
              "#fdca26"
             ],
             [
              1,
              "#f0f921"
             ]
            ],
            "type": "heatmap"
           }
          ],
          "heatmapgl": [
           {
            "colorbar": {
             "outlinewidth": 0,
             "ticks": ""
            },
            "colorscale": [
             [
              0,
              "#0d0887"
             ],
             [
              0.1111111111111111,
              "#46039f"
             ],
             [
              0.2222222222222222,
              "#7201a8"
             ],
             [
              0.3333333333333333,
              "#9c179e"
             ],
             [
              0.4444444444444444,
              "#bd3786"
             ],
             [
              0.5555555555555556,
              "#d8576b"
             ],
             [
              0.6666666666666666,
              "#ed7953"
             ],
             [
              0.7777777777777778,
              "#fb9f3a"
             ],
             [
              0.8888888888888888,
              "#fdca26"
             ],
             [
              1,
              "#f0f921"
             ]
            ],
            "type": "heatmapgl"
           }
          ],
          "histogram": [
           {
            "marker": {
             "pattern": {
              "fillmode": "overlay",
              "size": 10,
              "solidity": 0.2
             }
            },
            "type": "histogram"
           }
          ],
          "histogram2d": [
           {
            "colorbar": {
             "outlinewidth": 0,
             "ticks": ""
            },
            "colorscale": [
             [
              0,
              "#0d0887"
             ],
             [
              0.1111111111111111,
              "#46039f"
             ],
             [
              0.2222222222222222,
              "#7201a8"
             ],
             [
              0.3333333333333333,
              "#9c179e"
             ],
             [
              0.4444444444444444,
              "#bd3786"
             ],
             [
              0.5555555555555556,
              "#d8576b"
             ],
             [
              0.6666666666666666,
              "#ed7953"
             ],
             [
              0.7777777777777778,
              "#fb9f3a"
             ],
             [
              0.8888888888888888,
              "#fdca26"
             ],
             [
              1,
              "#f0f921"
             ]
            ],
            "type": "histogram2d"
           }
          ],
          "histogram2dcontour": [
           {
            "colorbar": {
             "outlinewidth": 0,
             "ticks": ""
            },
            "colorscale": [
             [
              0,
              "#0d0887"
             ],
             [
              0.1111111111111111,
              "#46039f"
             ],
             [
              0.2222222222222222,
              "#7201a8"
             ],
             [
              0.3333333333333333,
              "#9c179e"
             ],
             [
              0.4444444444444444,
              "#bd3786"
             ],
             [
              0.5555555555555556,
              "#d8576b"
             ],
             [
              0.6666666666666666,
              "#ed7953"
             ],
             [
              0.7777777777777778,
              "#fb9f3a"
             ],
             [
              0.8888888888888888,
              "#fdca26"
             ],
             [
              1,
              "#f0f921"
             ]
            ],
            "type": "histogram2dcontour"
           }
          ],
          "mesh3d": [
           {
            "colorbar": {
             "outlinewidth": 0,
             "ticks": ""
            },
            "type": "mesh3d"
           }
          ],
          "parcoords": [
           {
            "line": {
             "colorbar": {
              "outlinewidth": 0,
              "ticks": ""
             }
            },
            "type": "parcoords"
           }
          ],
          "pie": [
           {
            "automargin": true,
            "type": "pie"
           }
          ],
          "scatter": [
           {
            "fillpattern": {
             "fillmode": "overlay",
             "size": 10,
             "solidity": 0.2
            },
            "type": "scatter"
           }
          ],
          "scatter3d": [
           {
            "line": {
             "colorbar": {
              "outlinewidth": 0,
              "ticks": ""
             }
            },
            "marker": {
             "colorbar": {
              "outlinewidth": 0,
              "ticks": ""
             }
            },
            "type": "scatter3d"
           }
          ],
          "scattercarpet": [
           {
            "marker": {
             "colorbar": {
              "outlinewidth": 0,
              "ticks": ""
             }
            },
            "type": "scattercarpet"
           }
          ],
          "scattergeo": [
           {
            "marker": {
             "colorbar": {
              "outlinewidth": 0,
              "ticks": ""
             }
            },
            "type": "scattergeo"
           }
          ],
          "scattergl": [
           {
            "marker": {
             "colorbar": {
              "outlinewidth": 0,
              "ticks": ""
             }
            },
            "type": "scattergl"
           }
          ],
          "scattermapbox": [
           {
            "marker": {
             "colorbar": {
              "outlinewidth": 0,
              "ticks": ""
             }
            },
            "type": "scattermapbox"
           }
          ],
          "scatterpolar": [
           {
            "marker": {
             "colorbar": {
              "outlinewidth": 0,
              "ticks": ""
             }
            },
            "type": "scatterpolar"
           }
          ],
          "scatterpolargl": [
           {
            "marker": {
             "colorbar": {
              "outlinewidth": 0,
              "ticks": ""
             }
            },
            "type": "scatterpolargl"
           }
          ],
          "scatterternary": [
           {
            "marker": {
             "colorbar": {
              "outlinewidth": 0,
              "ticks": ""
             }
            },
            "type": "scatterternary"
           }
          ],
          "surface": [
           {
            "colorbar": {
             "outlinewidth": 0,
             "ticks": ""
            },
            "colorscale": [
             [
              0,
              "#0d0887"
             ],
             [
              0.1111111111111111,
              "#46039f"
             ],
             [
              0.2222222222222222,
              "#7201a8"
             ],
             [
              0.3333333333333333,
              "#9c179e"
             ],
             [
              0.4444444444444444,
              "#bd3786"
             ],
             [
              0.5555555555555556,
              "#d8576b"
             ],
             [
              0.6666666666666666,
              "#ed7953"
             ],
             [
              0.7777777777777778,
              "#fb9f3a"
             ],
             [
              0.8888888888888888,
              "#fdca26"
             ],
             [
              1,
              "#f0f921"
             ]
            ],
            "type": "surface"
           }
          ],
          "table": [
           {
            "cells": {
             "fill": {
              "color": "#EBF0F8"
             },
             "line": {
              "color": "white"
             }
            },
            "header": {
             "fill": {
              "color": "#C8D4E3"
             },
             "line": {
              "color": "white"
             }
            },
            "type": "table"
           }
          ]
         },
         "layout": {
          "annotationdefaults": {
           "arrowcolor": "#2a3f5f",
           "arrowhead": 0,
           "arrowwidth": 1
          },
          "autotypenumbers": "strict",
          "coloraxis": {
           "colorbar": {
            "outlinewidth": 0,
            "ticks": ""
           }
          },
          "colorscale": {
           "diverging": [
            [
             0,
             "#8e0152"
            ],
            [
             0.1,
             "#c51b7d"
            ],
            [
             0.2,
             "#de77ae"
            ],
            [
             0.3,
             "#f1b6da"
            ],
            [
             0.4,
             "#fde0ef"
            ],
            [
             0.5,
             "#f7f7f7"
            ],
            [
             0.6,
             "#e6f5d0"
            ],
            [
             0.7,
             "#b8e186"
            ],
            [
             0.8,
             "#7fbc41"
            ],
            [
             0.9,
             "#4d9221"
            ],
            [
             1,
             "#276419"
            ]
           ],
           "sequential": [
            [
             0,
             "#0d0887"
            ],
            [
             0.1111111111111111,
             "#46039f"
            ],
            [
             0.2222222222222222,
             "#7201a8"
            ],
            [
             0.3333333333333333,
             "#9c179e"
            ],
            [
             0.4444444444444444,
             "#bd3786"
            ],
            [
             0.5555555555555556,
             "#d8576b"
            ],
            [
             0.6666666666666666,
             "#ed7953"
            ],
            [
             0.7777777777777778,
             "#fb9f3a"
            ],
            [
             0.8888888888888888,
             "#fdca26"
            ],
            [
             1,
             "#f0f921"
            ]
           ],
           "sequentialminus": [
            [
             0,
             "#0d0887"
            ],
            [
             0.1111111111111111,
             "#46039f"
            ],
            [
             0.2222222222222222,
             "#7201a8"
            ],
            [
             0.3333333333333333,
             "#9c179e"
            ],
            [
             0.4444444444444444,
             "#bd3786"
            ],
            [
             0.5555555555555556,
             "#d8576b"
            ],
            [
             0.6666666666666666,
             "#ed7953"
            ],
            [
             0.7777777777777778,
             "#fb9f3a"
            ],
            [
             0.8888888888888888,
             "#fdca26"
            ],
            [
             1,
             "#f0f921"
            ]
           ]
          },
          "colorway": [
           "#636efa",
           "#EF553B",
           "#00cc96",
           "#ab63fa",
           "#FFA15A",
           "#19d3f3",
           "#FF6692",
           "#B6E880",
           "#FF97FF",
           "#FECB52"
          ],
          "font": {
           "color": "#2a3f5f"
          },
          "geo": {
           "bgcolor": "white",
           "lakecolor": "white",
           "landcolor": "#E5ECF6",
           "showlakes": true,
           "showland": true,
           "subunitcolor": "white"
          },
          "hoverlabel": {
           "align": "left"
          },
          "hovermode": "closest",
          "mapbox": {
           "style": "light"
          },
          "paper_bgcolor": "white",
          "plot_bgcolor": "#E5ECF6",
          "polar": {
           "angularaxis": {
            "gridcolor": "white",
            "linecolor": "white",
            "ticks": ""
           },
           "bgcolor": "#E5ECF6",
           "radialaxis": {
            "gridcolor": "white",
            "linecolor": "white",
            "ticks": ""
           }
          },
          "scene": {
           "xaxis": {
            "backgroundcolor": "#E5ECF6",
            "gridcolor": "white",
            "gridwidth": 2,
            "linecolor": "white",
            "showbackground": true,
            "ticks": "",
            "zerolinecolor": "white"
           },
           "yaxis": {
            "backgroundcolor": "#E5ECF6",
            "gridcolor": "white",
            "gridwidth": 2,
            "linecolor": "white",
            "showbackground": true,
            "ticks": "",
            "zerolinecolor": "white"
           },
           "zaxis": {
            "backgroundcolor": "#E5ECF6",
            "gridcolor": "white",
            "gridwidth": 2,
            "linecolor": "white",
            "showbackground": true,
            "ticks": "",
            "zerolinecolor": "white"
           }
          },
          "shapedefaults": {
           "line": {
            "color": "#2a3f5f"
           }
          },
          "ternary": {
           "aaxis": {
            "gridcolor": "white",
            "linecolor": "white",
            "ticks": ""
           },
           "baxis": {
            "gridcolor": "white",
            "linecolor": "white",
            "ticks": ""
           },
           "bgcolor": "#E5ECF6",
           "caxis": {
            "gridcolor": "white",
            "linecolor": "white",
            "ticks": ""
           }
          },
          "title": {
           "x": 0.05
          },
          "xaxis": {
           "automargin": true,
           "gridcolor": "white",
           "linecolor": "white",
           "ticks": "",
           "title": {
            "standoff": 15
           },
           "zerolinecolor": "white",
           "zerolinewidth": 2
          },
          "yaxis": {
           "automargin": true,
           "gridcolor": "white",
           "linecolor": "white",
           "ticks": "",
           "title": {
            "standoff": 15
           },
           "zerolinecolor": "white",
           "zerolinewidth": 2
          }
         }
        },
        "title": {
         "text": "Per Capita Food Supply Variability (kcal/cap/day)"
        },
        "width": 1000
       }
      }
     },
     "metadata": {},
     "output_type": "display_data"
    }
   ],
   "source": [
    "# choropleth\n",
    "fig = px.choropleth(df1, locations = 'country',\n",
    "                    locationmode='country names',\n",
    "                    color=\"value\",\n",
    "                    hover_name = 'country',\n",
    "                    title = 'Per Capita Food Supply Variability (kcal/cap/day)',\n",
    "                    color_continuous_scale=px.colors.sequential.Plasma\n",
    "                    )\n",
    "fig.update_layout(width=1000, height=800)\n",
    "fig.show()"
   ]
  },
  {
   "cell_type": "code",
   "execution_count": 219,
   "metadata": {},
   "outputs": [
    {
     "data": {
      "text/html": [
       "<div>\n",
       "<style scoped>\n",
       "    .dataframe tbody tr th:only-of-type {\n",
       "        vertical-align: middle;\n",
       "    }\n",
       "\n",
       "    .dataframe tbody tr th {\n",
       "        vertical-align: top;\n",
       "    }\n",
       "\n",
       "    .dataframe thead th {\n",
       "        text-align: right;\n",
       "    }\n",
       "</style>\n",
       "<table border=\"1\" class=\"dataframe\">\n",
       "  <thead>\n",
       "    <tr style=\"text-align: right;\">\n",
       "      <th>year</th>\n",
       "      <th>2000</th>\n",
       "      <th>2000-2002</th>\n",
       "      <th>2001</th>\n",
       "      <th>2001-2003</th>\n",
       "      <th>2002</th>\n",
       "      <th>2002-2004</th>\n",
       "      <th>2003</th>\n",
       "      <th>2003-2005</th>\n",
       "      <th>2004</th>\n",
       "      <th>2004-2006</th>\n",
       "      <th>...</th>\n",
       "      <th>2017</th>\n",
       "      <th>2017-2019</th>\n",
       "      <th>2018</th>\n",
       "      <th>2018-2020</th>\n",
       "      <th>2019</th>\n",
       "      <th>2019-2021</th>\n",
       "      <th>2020</th>\n",
       "      <th>2020-2022</th>\n",
       "      <th>2021</th>\n",
       "      <th>2022</th>\n",
       "    </tr>\n",
       "    <tr>\n",
       "      <th>country</th>\n",
       "      <th></th>\n",
       "      <th></th>\n",
       "      <th></th>\n",
       "      <th></th>\n",
       "      <th></th>\n",
       "      <th></th>\n",
       "      <th></th>\n",
       "      <th></th>\n",
       "      <th></th>\n",
       "      <th></th>\n",
       "      <th></th>\n",
       "      <th></th>\n",
       "      <th></th>\n",
       "      <th></th>\n",
       "      <th></th>\n",
       "      <th></th>\n",
       "      <th></th>\n",
       "      <th></th>\n",
       "      <th></th>\n",
       "      <th></th>\n",
       "      <th></th>\n",
       "    </tr>\n",
       "  </thead>\n",
       "  <tbody>\n",
       "    <tr>\n",
       "      <th>Afghanistan</th>\n",
       "      <td>223.700588</td>\n",
       "      <td>59.38</td>\n",
       "      <td>224.575882</td>\n",
       "      <td>62.94</td>\n",
       "      <td>270.487368</td>\n",
       "      <td>54.16</td>\n",
       "      <td>271.884737</td>\n",
       "      <td>52.62</td>\n",
       "      <td>244.503810</td>\n",
       "      <td>51.23</td>\n",
       "      <td>...</td>\n",
       "      <td>359.908235</td>\n",
       "      <td>42.872727</td>\n",
       "      <td>307.894000</td>\n",
       "      <td>42.986364</td>\n",
       "      <td>360.781765</td>\n",
       "      <td>42.558824</td>\n",
       "      <td>399.280000</td>\n",
       "      <td>35.960000</td>\n",
       "      <td>488.925455</td>\n",
       "      <td>426.945556</td>\n",
       "    </tr>\n",
       "    <tr>\n",
       "      <th>Albania</th>\n",
       "      <td>481.722273</td>\n",
       "      <td>52.45</td>\n",
       "      <td>530.579524</td>\n",
       "      <td>52.79</td>\n",
       "      <td>520.983636</td>\n",
       "      <td>53.08</td>\n",
       "      <td>539.859091</td>\n",
       "      <td>52.88</td>\n",
       "      <td>560.862727</td>\n",
       "      <td>52.99</td>\n",
       "      <td>...</td>\n",
       "      <td>928.068947</td>\n",
       "      <td>30.909091</td>\n",
       "      <td>1065.682941</td>\n",
       "      <td>31.566667</td>\n",
       "      <td>1084.625882</td>\n",
       "      <td>18.375000</td>\n",
       "      <td>1200.874667</td>\n",
       "      <td>18.150000</td>\n",
       "      <td>2105.637778</td>\n",
       "      <td>631.747143</td>\n",
       "    </tr>\n",
       "    <tr>\n",
       "      <th>Algeria</th>\n",
       "      <td>553.792500</td>\n",
       "      <td>45.26</td>\n",
       "      <td>640.562857</td>\n",
       "      <td>45.01</td>\n",
       "      <td>577.152500</td>\n",
       "      <td>44.92</td>\n",
       "      <td>653.721364</td>\n",
       "      <td>44.51</td>\n",
       "      <td>667.308636</td>\n",
       "      <td>44.67</td>\n",
       "      <td>...</td>\n",
       "      <td>774.687143</td>\n",
       "      <td>30.085000</td>\n",
       "      <td>771.723810</td>\n",
       "      <td>29.955000</td>\n",
       "      <td>672.041667</td>\n",
       "      <td>18.253333</td>\n",
       "      <td>848.272222</td>\n",
       "      <td>18.907692</td>\n",
       "      <td>1380.306364</td>\n",
       "      <td>456.571111</td>\n",
       "    </tr>\n",
       "    <tr>\n",
       "      <th>American Samoa</th>\n",
       "      <td>61.052500</td>\n",
       "      <td>NaN</td>\n",
       "      <td>61.350000</td>\n",
       "      <td>NaN</td>\n",
       "      <td>61.675000</td>\n",
       "      <td>NaN</td>\n",
       "      <td>62.000000</td>\n",
       "      <td>NaN</td>\n",
       "      <td>50.026000</td>\n",
       "      <td>NaN</td>\n",
       "      <td>...</td>\n",
       "      <td>51.228000</td>\n",
       "      <td>NaN</td>\n",
       "      <td>51.228000</td>\n",
       "      <td>NaN</td>\n",
       "      <td>51.218000</td>\n",
       "      <td>NaN</td>\n",
       "      <td>51.218000</td>\n",
       "      <td>NaN</td>\n",
       "      <td>2.035000</td>\n",
       "      <td>3.020000</td>\n",
       "    </tr>\n",
       "    <tr>\n",
       "      <th>Andorra</th>\n",
       "      <td>38.786667</td>\n",
       "      <td>NaN</td>\n",
       "      <td>44.412500</td>\n",
       "      <td>NaN</td>\n",
       "      <td>40.442222</td>\n",
       "      <td>0.30</td>\n",
       "      <td>41.285556</td>\n",
       "      <td>0.30</td>\n",
       "      <td>42.087778</td>\n",
       "      <td>0.30</td>\n",
       "      <td>...</td>\n",
       "      <td>51.605000</td>\n",
       "      <td>0.300000</td>\n",
       "      <td>51.642500</td>\n",
       "      <td>0.300000</td>\n",
       "      <td>51.715000</td>\n",
       "      <td>0.300000</td>\n",
       "      <td>57.377143</td>\n",
       "      <td>NaN</td>\n",
       "      <td>2.325000</td>\n",
       "      <td>3.020000</td>\n",
       "    </tr>\n",
       "  </tbody>\n",
       "</table>\n",
       "<p>5 rows × 44 columns</p>\n",
       "</div>"
      ],
      "text/plain": [
       "year                  2000  2000-2002        2001  2001-2003        2002  \\\n",
       "country                                                                    \n",
       "Afghanistan     223.700588      59.38  224.575882      62.94  270.487368   \n",
       "Albania         481.722273      52.45  530.579524      52.79  520.983636   \n",
       "Algeria         553.792500      45.26  640.562857      45.01  577.152500   \n",
       "American Samoa   61.052500        NaN   61.350000        NaN   61.675000   \n",
       "Andorra          38.786667        NaN   44.412500        NaN   40.442222   \n",
       "\n",
       "year            2002-2004        2003  2003-2005        2004  2004-2006  ...  \\\n",
       "country                                                                  ...   \n",
       "Afghanistan         54.16  271.884737      52.62  244.503810      51.23  ...   \n",
       "Albania             53.08  539.859091      52.88  560.862727      52.99  ...   \n",
       "Algeria             44.92  653.721364      44.51  667.308636      44.67  ...   \n",
       "American Samoa        NaN   62.000000        NaN   50.026000        NaN  ...   \n",
       "Andorra              0.30   41.285556       0.30   42.087778       0.30  ...   \n",
       "\n",
       "year                  2017  2017-2019         2018  2018-2020         2019  \\\n",
       "country                                                                      \n",
       "Afghanistan     359.908235  42.872727   307.894000  42.986364   360.781765   \n",
       "Albania         928.068947  30.909091  1065.682941  31.566667  1084.625882   \n",
       "Algeria         774.687143  30.085000   771.723810  29.955000   672.041667   \n",
       "American Samoa   51.228000        NaN    51.228000        NaN    51.218000   \n",
       "Andorra          51.605000   0.300000    51.642500   0.300000    51.715000   \n",
       "\n",
       "year            2019-2021         2020  2020-2022         2021        2022  \n",
       "country                                                                     \n",
       "Afghanistan     42.558824   399.280000  35.960000   488.925455  426.945556  \n",
       "Albania         18.375000  1200.874667  18.150000  2105.637778  631.747143  \n",
       "Algeria         18.253333   848.272222  18.907692  1380.306364  456.571111  \n",
       "American Samoa        NaN    51.218000        NaN     2.035000    3.020000  \n",
       "Andorra          0.300000    57.377143        NaN     2.325000    3.020000  \n",
       "\n",
       "[5 rows x 44 columns]"
      ]
     },
     "execution_count": 219,
     "metadata": {},
     "output_type": "execute_result"
    }
   ],
   "source": [
    "# time series data\n",
    "df2 = df[['country', 'year', 'value']]\n",
    "# convert the value column to float\n",
    "df2['value'] = pd.to_numeric(df2['value'], errors='coerce')\n",
    "# group the data by country and year\n",
    "df2 = df2.groupby(['country', 'year']).mean().reset_index()\n",
    "df2 = df2.pivot(index='country', columns='year', values='value')\n",
    "df2.head()"
   ]
  },
  {
   "cell_type": "code",
   "execution_count": 220,
   "metadata": {},
   "outputs": [],
   "source": [
    "absolute_change = df2['2021'] - df2['2000']\n",
    "relative_change = ((df2['2021'] - df2['2000']) / df2['2000']) * 100"
   ]
  },
  {
   "cell_type": "code",
   "execution_count": 221,
   "metadata": {},
   "outputs": [],
   "source": [
    "df2 = pd.DataFrame({\n",
    "    'country': df2.index,\n",
    "    '2000': df2['2000'],\n",
    "    '2021': df2['2021'],\n",
    "    'absolute_change': absolute_change,\n",
    "    'relative_change': relative_change\n",
    "})\n",
    "\n",
    "df2['absolute_change'] = df2['absolute_change'].round(2)\n",
    "df2['relative_change']=df2['relative_change'].apply(lambda x: int(x))\n",
    "df2['relative_change']= df2['relative_change'].astype(str) + '%'"
   ]
  },
  {
   "cell_type": "code",
   "execution_count": 222,
   "metadata": {},
   "outputs": [
    {
     "data": {
      "text/html": [
       "<div>\n",
       "<style scoped>\n",
       "    .dataframe tbody tr th:only-of-type {\n",
       "        vertical-align: middle;\n",
       "    }\n",
       "\n",
       "    .dataframe tbody tr th {\n",
       "        vertical-align: top;\n",
       "    }\n",
       "\n",
       "    .dataframe thead th {\n",
       "        text-align: right;\n",
       "    }\n",
       "</style>\n",
       "<table border=\"1\" class=\"dataframe\">\n",
       "  <thead>\n",
       "    <tr style=\"text-align: right;\">\n",
       "      <th></th>\n",
       "      <th>country</th>\n",
       "      <th>2000</th>\n",
       "      <th>2021</th>\n",
       "      <th>absolute_change</th>\n",
       "      <th>relative_change</th>\n",
       "    </tr>\n",
       "  </thead>\n",
       "  <tbody>\n",
       "    <tr>\n",
       "      <th>0</th>\n",
       "      <td>Afghanistan</td>\n",
       "      <td>223.700588</td>\n",
       "      <td>488.925455</td>\n",
       "      <td>265.22</td>\n",
       "      <td>118%</td>\n",
       "    </tr>\n",
       "    <tr>\n",
       "      <th>1</th>\n",
       "      <td>Albania</td>\n",
       "      <td>481.722273</td>\n",
       "      <td>2105.637778</td>\n",
       "      <td>1623.92</td>\n",
       "      <td>337%</td>\n",
       "    </tr>\n",
       "    <tr>\n",
       "      <th>2</th>\n",
       "      <td>Algeria</td>\n",
       "      <td>553.792500</td>\n",
       "      <td>1380.306364</td>\n",
       "      <td>826.51</td>\n",
       "      <td>149%</td>\n",
       "    </tr>\n",
       "    <tr>\n",
       "      <th>3</th>\n",
       "      <td>American Samoa</td>\n",
       "      <td>61.052500</td>\n",
       "      <td>2.035000</td>\n",
       "      <td>-59.02</td>\n",
       "      <td>-96%</td>\n",
       "    </tr>\n",
       "    <tr>\n",
       "      <th>4</th>\n",
       "      <td>Andorra</td>\n",
       "      <td>38.786667</td>\n",
       "      <td>2.325000</td>\n",
       "      <td>-36.46</td>\n",
       "      <td>-94%</td>\n",
       "    </tr>\n",
       "  </tbody>\n",
       "</table>\n",
       "</div>"
      ],
      "text/plain": [
       "          country        2000         2021  absolute_change relative_change\n",
       "0     Afghanistan  223.700588   488.925455           265.22            118%\n",
       "1         Albania  481.722273  2105.637778          1623.92            337%\n",
       "2         Algeria  553.792500  1380.306364           826.51            149%\n",
       "3  American Samoa   61.052500     2.035000           -59.02            -96%\n",
       "4         Andorra   38.786667     2.325000           -36.46            -94%"
      ]
     },
     "execution_count": 222,
     "metadata": {},
     "output_type": "execute_result"
    }
   ],
   "source": [
    "df2.drop(columns=['country'], inplace=True)\n",
    "df2.reset_index(inplace=True)\n",
    "df2.head()"
   ]
  },
  {
   "cell_type": "markdown",
   "metadata": {},
   "source": [
    "### Second Plot"
   ]
  },
  {
   "cell_type": "code",
   "execution_count": 229,
   "metadata": {},
   "outputs": [
    {
     "data": {
      "application/vnd.plotly.v1+json": {
       "config": {
        "plotlyServerURL": "https://plot.ly"
       },
       "data": [
        {
         "alignmentgroup": "True",
         "customdata": [
          [
           265.22,
           "118%"
          ],
          [
           1623.92,
           "337%"
          ],
          [
           826.51,
           "149%"
          ],
          [
           -59.02,
           "-96%"
          ],
          [
           -36.46,
           "-94%"
          ],
          [
           429.94,
           "93%"
          ],
          [
           2001.58,
           "104%"
          ],
          [
           1195.77,
           "103%"
          ],
          [
           1650.73,
           "404%"
          ],
          [
           2529.67,
           "105%"
          ],
          [
           5351.03,
           "176%"
          ],
          [
           1349.19,
           "373%"
          ],
          [
           2298.93,
           "66%"
          ],
          [
           4512.24,
           "141%"
          ],
          [
           642.59,
           "235%"
          ],
          [
           471.1,
           "30%"
          ],
          [
           1999.71,
           "293%"
          ],
          [
           3588.67,
           "134%"
          ],
          [
           511.74,
           "55%"
          ],
          [
           367.81,
           "101%"
          ],
          [
           4369.65,
           "44%"
          ],
          [
           1376.23,
           "265%"
          ],
          [
           626.87,
           "131%"
          ],
          [
           1650.74,
           "281%"
          ],
          [
           1028.94,
           "117%"
          ],
          [
           956.98,
           "124%"
          ],
          [
           2426.69,
           "43%"
          ],
          [
           2389.46,
           "293%"
          ],
          [
           208.35,
           "77%"
          ],
          [
           199.06,
           "77%"
          ],
          [
           639.61,
           "95%"
          ],
          [
           364.18,
           "147%"
          ],
          [
           352.37,
           "99%"
          ],
          [
           3247.66,
           "126%"
          ],
          [
           239.06,
           "102%"
          ],
          [
           184.35,
           "80%"
          ],
          [
           1978.28,
           "197%"
          ],
          [
           2269.28,
           "447%"
          ],
          [
           5444.58,
           "145%"
          ],
          [
           4860.78,
           "96%"
          ],
          [
           252.99,
           "40%"
          ],
          [
           2551.04,
           "230%"
          ],
          [
           1128.58,
           "191%"
          ],
          [
           346.64,
           "75%"
          ],
          [
           274.99,
           "60%"
          ],
          [
           -43.01,
           "-93%"
          ],
          [
           1937.32,
           "214%"
          ],
          [
           3782.17,
           "276%"
          ],
          [
           262.35,
           "117%"
          ],
          [
           3898.01,
           "144%"
          ],
          [
           3445.78,
           "218%"
          ],
          [
           295.36,
           "79%"
          ],
          [
           215.67,
           "81%"
          ],
          [
           222.5,
           "99%"
          ],
          [
           5757.24,
           "181%"
          ],
          [
           731.22,
           "253%"
          ],
          [
           872.36,
           "67%"
          ],
          [
           1400.62,
           "205%"
          ],
          [
           722.3,
           "115%"
          ],
          [
           837.17,
           "139%"
          ],
          [
           730.24,
           "123%"
          ],
          [
           1402.54,
           "149%"
          ],
          [
           222.09,
           "78%"
          ],
          [
           3608.55,
           "300%"
          ],
          [
           936.36,
           "183%"
          ],
          [
           366.52,
           "171%"
          ],
          [
           474.79,
           "55%"
          ],
          [
           4973.23,
           "188%"
          ],
          [
           4589.38,
           "185%"
          ],
          [
           303.36,
           "53%"
          ],
          [
           926.67,
           "86%"
          ],
          [
           294.64,
           "92%"
          ],
          [
           1725.37,
           "356%"
          ],
          [
           2960.94,
           "129%"
          ],
          [
           557.28,
           "176%"
          ],
          [
           1700.29,
           "99%"
          ],
          [
           -73.65,
           "-96%"
          ],
          [
           1703.51,
           "130%"
          ],
          [
           616.87,
           "133%"
          ],
          [
           266.99,
           "78%"
          ],
          [
           291.6,
           "98%"
          ],
          [
           2245.4,
           "338%"
          ],
          [
           325.61,
           "85%"
          ],
          [
           426.43,
           "93%"
          ],
          [
           4009.17,
           "279%"
          ],
          [
           4992.19,
           "150%"
          ],
          [
           647.98,
           "193%"
          ],
          [
           987.31,
           "209%"
          ],
          [
           971.61,
           "124%"
          ],
          [
           662.91,
           "126%"
          ],
          [
           12136.61,
           "386%"
          ],
          [
           4548.9,
           "222%"
          ],
          [
           3810.85,
           "134%"
          ],
          [
           744.95,
           "90%"
          ],
          [
           2143.65,
           "109%"
          ],
          [
           523.12,
           "74%"
          ],
          [
           2008.43,
           "268%"
          ],
          [
           482.79,
           "151%"
          ],
          [
           243.4,
           "58%"
          ],
          [
           -2941.56,
           "-84%"
          ],
          [
           514.92,
           "134%"
          ],
          [
           873.18,
           "260%"
          ],
          [
           2704.13,
           "287%"
          ],
          [
           815.19,
           "89%"
          ],
          [
           350.77,
           "117%"
          ],
          [
           231.47,
           "74%"
          ],
          [
           531.81,
           "28%"
          ],
          [
           3387.33,
           "344%"
          ],
          [
           10239.23,
           "147%"
          ],
          [
           151.14,
           "62%"
          ],
          [
           267.74,
           "118%"
          ],
          [
           1849.01,
           "197%"
          ],
          [
           1637.26,
           "131%"
          ],
          [
           146.4,
           "50%"
          ],
          [
           4867.04,
           "224%"
          ],
          [
           653.8,
           "119%"
          ],
          [
           345.07,
           "79%"
          ],
          [
           1764.79,
           "168%"
          ],
          [
           605.16,
           "56%"
          ],
          [
           417.33,
           "51%"
          ],
          [
           1358.34,
           "337%"
          ],
          [
           1248.16,
           "81%"
          ],
          [
           729.03,
           "185%"
          ],
          [
           249.88,
           "108%"
          ],
          [
           597.16,
           "268%"
          ],
          [
           751.54,
           "130%"
          ],
          [
           2354.48,
           "5926%"
          ],
          [
           486.43,
           "159%"
          ],
          [
           4044.46,
           "146%"
          ],
          [
           284.65,
           "51%"
          ],
          [
           4415.28,
           "188%"
          ],
          [
           433.34,
           "95%"
          ],
          [
           119.61,
           "48%"
          ],
          [
           454.47,
           "128%"
          ],
          [
           -57.6,
           "-95%"
          ],
          [
           1537.05,
           "194%"
          ],
          [
           6386.13,
           "175%"
          ],
          [
           1411.26,
           "57%"
          ],
          [
           445.67,
           "112%"
          ],
          [
           2890.88,
           "169%"
          ],
          [
           527.3,
           "97%"
          ],
          [
           2205.66,
           "197%"
          ],
          [
           261.23,
           "59%"
          ],
          [
           1092.46,
           "156%"
          ],
          [
           819.17,
           "175%"
          ],
          [
           691.48,
           "167%"
          ],
          [
           2710.56,
           "220%"
          ],
          [
           2379.76,
           "128%"
          ],
          [
           3277.19,
           "113%"
          ],
          [
           6923.58,
           "131%"
          ],
          [
           3414.38,
           "235%"
          ],
          [
           1496.75,
           "273%"
          ],
          [
           2672.61,
           "315%"
          ],
          [
           2709.48,
           "306%"
          ],
          [
           339.4,
           "147%"
          ],
          [
           2737.02,
           "113%"
          ],
          [
           960.44,
           "78%"
          ],
          [
           1386.85,
           "115%"
          ],
          [
           515.22,
           "90%"
          ],
          [
           629.55,
           "231%"
          ],
          [
           2075.88,
           "88%"
          ],
          [
           376.13,
           "120%"
          ],
          [
           1977.97,
           "274%"
          ],
          [
           1852.08,
           "101%"
          ],
          [
           175.13,
           "75%"
          ],
          [
           10433.37,
           "309%"
          ],
          [
           3986.84,
           "329%"
          ],
          [
           4518.68,
           "246%"
          ],
          [
           263.95,
           "59%"
          ],
          [
           208.94,
           "83%"
          ],
          [
           802.77,
           "101%"
          ],
          [
           53.46,
           "13%"
          ],
          [
           3718.79,
           "159%"
          ],
          [
           1249.02,
           "248%"
          ],
          [
           161.87,
           "30%"
          ],
          [
           1204.18,
           "131%"
          ],
          [
           5623.73,
           "209%"
          ],
          [
           6976.27,
           "182%"
          ],
          [
           185.73,
           "78%"
          ],
          [
           557.81,
           "229%"
          ],
          [
           1264.07,
           "184%"
          ],
          [
           455.08,
           "101%"
          ],
          [
           328.58,
           "113%"
          ],
          [
           -56.42,
           "-94%"
          ],
          [
           595.24,
           "82%"
          ],
          [
           1891.33,
           "163%"
          ],
          [
           744.01,
           "127%"
          ],
          [
           85.08,
           "19%"
          ],
          [
           392.33,
           "65%"
          ],
          [
           2217.37,
           "214%"
          ],
          [
           331.56,
           "139%"
          ],
          [
           1039.99,
           "192%"
          ],
          [
           2820.53,
           "36%"
          ],
          [
           3293.35,
           "149%"
          ],
          [
           333.17,
           "131%"
          ],
          [
           3700.96,
           "148%"
          ],
          [
           1888.8,
           "167%"
          ],
          [
           563.76,
           "158%"
          ],
          [
           246.08,
           "49%"
          ],
          [
           213.8,
           "98%"
          ],
          [
           994.54,
           "286%"
          ],
          [
           168.13,
           "72%"
          ],
          [
           335.33,
           "104%"
          ],
          [
           225.39,
           "67%"
          ]
         ],
         "hovertemplate": "Year=2000<br>country=%{x}<br>Value=%{y}<br>absolute_change=%{customdata[0]}<br>relative_change=%{customdata[1]}<extra></extra>",
         "legendgroup": "2000",
         "marker": {
          "color": "#636efa",
          "pattern": {
           "shape": ""
          }
         },
         "name": "2000",
         "offsetgroup": "2000",
         "orientation": "v",
         "showlegend": true,
         "textposition": "auto",
         "type": "bar",
         "x": [
          "Afghanistan",
          "Albania",
          "Algeria",
          "American Samoa",
          "Andorra",
          "Angola",
          "Antigua and Barbuda",
          "Argentina",
          "Armenia",
          "Australia",
          "Austria",
          "Azerbaijan",
          "Bahamas",
          "Bahrain",
          "Bangladesh",
          "Barbados",
          "Belarus",
          "Belgium",
          "Belize",
          "Benin",
          "Bermuda",
          "Bhutan",
          "Bolivia (Plurinational State of)",
          "Bosnia and Herzegovina",
          "Botswana",
          "Brazil",
          "Brunei Darussalam",
          "Bulgaria",
          "Burkina Faso",
          "Burundi",
          "Cabo Verde",
          "Cambodia",
          "Cameroon",
          "Canada",
          "Central African Republic",
          "Chad",
          "Chile",
          "China",
          "China, Hong Kong SAR",
          "China, Macao SAR",
          "China, Taiwan Province of",
          "China, mainland",
          "Colombia",
          "Comoros",
          "Congo",
          "Cook Islands",
          "Costa Rica",
          "Croatia",
          "Cuba",
          "Cyprus",
          "Czechia",
          "Côte d'Ivoire",
          "Democratic People's Republic of Korea",
          "Democratic Republic of the Congo",
          "Denmark",
          "Djibouti",
          "Dominica",
          "Dominican Republic",
          "Ecuador",
          "Egypt",
          "El Salvador",
          "Equatorial Guinea",
          "Eritrea",
          "Estonia",
          "Eswatini",
          "Ethiopia",
          "Fiji",
          "Finland",
          "France",
          "French Polynesia",
          "Gabon",
          "Gambia",
          "Georgia",
          "Germany",
          "Ghana",
          "Greece",
          "Greenland",
          "Grenada",
          "Guatemala",
          "Guinea",
          "Guinea-Bissau",
          "Guyana",
          "Haiti",
          "Honduras",
          "Hungary",
          "Iceland",
          "India",
          "Indonesia",
          "Iran (Islamic Republic of)",
          "Iraq",
          "Ireland",
          "Israel",
          "Italy",
          "Jamaica",
          "Japan",
          "Jordan",
          "Kazakhstan",
          "Kenya",
          "Kiribati",
          "Kuwait",
          "Kyrgyzstan",
          "Lao People's Democratic Republic",
          "Latvia",
          "Lebanon",
          "Lesotho",
          "Liberia",
          "Libya",
          "Lithuania",
          "Luxembourg",
          "Madagascar",
          "Malawi",
          "Malaysia",
          "Maldives",
          "Mali",
          "Malta",
          "Marshall Islands",
          "Mauritania",
          "Mauritius",
          "Mexico",
          "Micronesia (Federated States of)",
          "Mongolia",
          "Montenegro",
          "Morocco",
          "Mozambique",
          "Myanmar",
          "Namibia",
          "Nauru",
          "Nepal",
          "Netherlands (Kingdom of the)",
          "New Caledonia",
          "New Zealand",
          "Nicaragua",
          "Niger",
          "Nigeria",
          "Niue",
          "North Macedonia",
          "Norway",
          "Oman",
          "Pakistan",
          "Palau",
          "Palestine",
          "Panama",
          "Papua New Guinea",
          "Paraguay",
          "Peru",
          "Philippines",
          "Poland",
          "Portugal",
          "Puerto Rico",
          "Qatar",
          "Republic of Korea",
          "Republic of Moldova",
          "Romania",
          "Russian Federation",
          "Rwanda",
          "Saint Kitts and Nevis",
          "Saint Lucia",
          "Saint Vincent and the Grenadines",
          "Samoa",
          "Sao Tome and Principe",
          "Saudi Arabia",
          "Senegal",
          "Serbia",
          "Seychelles",
          "Sierra Leone",
          "Singapore",
          "Slovakia",
          "Slovenia",
          "Solomon Islands",
          "Somalia",
          "South Africa",
          "South Sudan",
          "Spain",
          "Sri Lanka",
          "Sudan",
          "Suriname",
          "Sweden",
          "Switzerland",
          "Syrian Arab Republic",
          "Tajikistan",
          "Thailand",
          "Timor-Leste",
          "Togo",
          "Tokelau",
          "Tonga",
          "Trinidad and Tobago",
          "Tunisia",
          "Turkmenistan",
          "Tuvalu",
          "Türkiye",
          "Uganda",
          "Ukraine",
          "United Arab Emirates",
          "United Kingdom of Great Britain and Northern Ireland",
          "United Republic of Tanzania",
          "United States of America",
          "Uruguay",
          "Uzbekistan",
          "Vanuatu",
          "Venezuela (Bolivarian Republic of)",
          "Viet Nam",
          "Yemen",
          "Zambia",
          "Zimbabwe"
         ],
         "xaxis": "x",
         "y": [
          223.7005882352941,
          481.7222727272727,
          553.7925000000001,
          61.0525,
          38.78666666666666,
          458.2515789473684,
          1914.7183333333335,
          1156.6905,
          408.5814285714286,
          2401.902777777778,
          3024.4052941176474,
          361.47625,
          3473.4641666666666,
          3178.34875,
          273.13416666666666,
          1550.81,
          681.281052631579,
          2663.83,
          922.277142857143,
          362.59,
          9742.908888888887,
          517.8937500000001,
          475.59499999999997,
          586.5625,
          878.1622222222222,
          768.4885714285714,
          5628.1030769230765,
          812.8094736842105,
          268.4545,
          255.68842105263158,
          667.48,
          246.99869565217392,
          354.8565,
          2569.3977777777777,
          233.10545454545453,
          227.68318181818185,
          1002.9685,
          507.49375,
          3740.909090909091,
          5020.0881818181815,
          621.9528571428572,
          1107.1885714285713,
          589.6634782608695,
          460.43266666666665,
          450.911052631579,
          46.035,
          903.6300000000001,
          1369.57,
          223.34,
          2701.1928571428575,
          1580.1552631578948,
          373.7427272727273,
          263.1976470588235,
          224.4042857142857,
          3168.032941176471,
          288.7213333333333,
          1301.2672727272727,
          681.4565,
          626.7015,
          599.226,
          593.1261111111112,
          938.0446666666667,
          282.11357142857145,
          1199.8894736842103,
          511.00315789473683,
          213.5,
          859.9768750000001,
          2639.026470588235,
          2478.1466666666665,
          565.56625,
          1065.4115789473683,
          319.26,
          484.61400000000003,
          2283.2361904761906,
          316.0968181818182,
          1704.5704999999998,
          76.102,
          1309.195,
          460.79782608695655,
          338.10235294117643,
          295.60600000000005,
          663.8122222222222,
          381.91999999999996,
          454.52833333333336,
          1431.9423529411765,
          3313.3957142857143,
          334.16857142857145,
          471.6971428571428,
          779.9469999999999,
          524.6515999999999,
          3139.8323529411764,
          2045.7717647058826,
          2823.189411764706,
          819.9876470588235,
          1956.3080952380953,
          702.8000000000001,
          748.3435,
          319.2417391304348,
          418.3473333333333,
          3499.0161111111106,
          382.0075,
          335.35238095238094,
          940.5099999999999,
          908.2173684210527,
          297.7795,
          310.12947368421055,
          1858.8752941176472,
          982.61,
          6947.29,
          240.10043478260872,
          226.1417391304348,
          935.7613636363636,
          1246.6278571428572,
          292.6621052631579,
          2163.6753333333336,
          546.385,
          436.69736842105266,
          1049.105,
          1066.9157142857143,
          812.0788888888889,
          402.5759090909091,
          1531.959090909091,
          392.3627272727272,
          230.1375,
          222.76083333333335,
          576.3436842105264,
          39.730000000000004,
          304.9445,
          2760.3757894736837,
          549.4325,
          2348.36625,
          453.8988888888889,
          245.33849999999998,
          354.2805,
          60.61833333333333,
          791.9063157894738,
          3647.671176470588,
          2463.699411764706,
          396.8752631578947,
          1705.57625,
          540.715,
          1116.495294117647,
          441.42875000000004,
          698.4515789473684,
          466.8152173913044,
          413.66809523809525,
          1227.1117647058825,
          1854.9115789473683,
          2895.565,
          5270.911249999999,
          1447.3842105263157,
          547.2733333333333,
          847.5635,
          885.1754545454546,
          229.60454545454547,
          2406.367,
          1226.0828571428572,
          1205.5781818181817,
          568.296,
          271.44937500000003,
          2350.817894736842,
          312.39181818181817,
          720.0294736842105,
          1823.746923076923,
          233.40863636363636,
          3370.297777777778,
          1211.7976470588237,
          1833.9817647058826,
          440.84357142857147,
          250.51,
          794.2552631578947,
          384.82800000000003,
          2334.6347058823526,
          502.1190476190476,
          538.504,
          912.7363157894738,
          2680.640588235294,
          3820.864705882353,
          238.07722222222225,
          243.32782608695652,
          685.467619047619,
          449.42,
          290.31,
          59.43666666666667,
          718.9323076923077,
          1153.4572222222223,
          583.4566666666667,
          428.7942857142857,
          595.2683333333333,
          1036.1073684210526,
          238.30772727272725,
          540.7691304347826,
          7819.284615384615,
          2198.0240000000003,
          254.20952380952383,
          2500.623181818182,
          1126.514705882353,
          356.70714285714286,
          497.48785714285714,
          217.288,
          347.1091304347826,
          232.8135294117647,
          320.40473684210525,
          334.05333333333334
         ],
         "yaxis": "y"
        },
        {
         "alignmentgroup": "True",
         "customdata": [
          [
           265.22,
           "118%"
          ],
          [
           1623.92,
           "337%"
          ],
          [
           826.51,
           "149%"
          ],
          [
           -59.02,
           "-96%"
          ],
          [
           -36.46,
           "-94%"
          ],
          [
           429.94,
           "93%"
          ],
          [
           2001.58,
           "104%"
          ],
          [
           1195.77,
           "103%"
          ],
          [
           1650.73,
           "404%"
          ],
          [
           2529.67,
           "105%"
          ],
          [
           5351.03,
           "176%"
          ],
          [
           1349.19,
           "373%"
          ],
          [
           2298.93,
           "66%"
          ],
          [
           4512.24,
           "141%"
          ],
          [
           642.59,
           "235%"
          ],
          [
           471.1,
           "30%"
          ],
          [
           1999.71,
           "293%"
          ],
          [
           3588.67,
           "134%"
          ],
          [
           511.74,
           "55%"
          ],
          [
           367.81,
           "101%"
          ],
          [
           4369.65,
           "44%"
          ],
          [
           1376.23,
           "265%"
          ],
          [
           626.87,
           "131%"
          ],
          [
           1650.74,
           "281%"
          ],
          [
           1028.94,
           "117%"
          ],
          [
           956.98,
           "124%"
          ],
          [
           2426.69,
           "43%"
          ],
          [
           2389.46,
           "293%"
          ],
          [
           208.35,
           "77%"
          ],
          [
           199.06,
           "77%"
          ],
          [
           639.61,
           "95%"
          ],
          [
           364.18,
           "147%"
          ],
          [
           352.37,
           "99%"
          ],
          [
           3247.66,
           "126%"
          ],
          [
           239.06,
           "102%"
          ],
          [
           184.35,
           "80%"
          ],
          [
           1978.28,
           "197%"
          ],
          [
           2269.28,
           "447%"
          ],
          [
           5444.58,
           "145%"
          ],
          [
           4860.78,
           "96%"
          ],
          [
           252.99,
           "40%"
          ],
          [
           2551.04,
           "230%"
          ],
          [
           1128.58,
           "191%"
          ],
          [
           346.64,
           "75%"
          ],
          [
           274.99,
           "60%"
          ],
          [
           -43.01,
           "-93%"
          ],
          [
           1937.32,
           "214%"
          ],
          [
           3782.17,
           "276%"
          ],
          [
           262.35,
           "117%"
          ],
          [
           3898.01,
           "144%"
          ],
          [
           3445.78,
           "218%"
          ],
          [
           295.36,
           "79%"
          ],
          [
           215.67,
           "81%"
          ],
          [
           222.5,
           "99%"
          ],
          [
           5757.24,
           "181%"
          ],
          [
           731.22,
           "253%"
          ],
          [
           872.36,
           "67%"
          ],
          [
           1400.62,
           "205%"
          ],
          [
           722.3,
           "115%"
          ],
          [
           837.17,
           "139%"
          ],
          [
           730.24,
           "123%"
          ],
          [
           1402.54,
           "149%"
          ],
          [
           222.09,
           "78%"
          ],
          [
           3608.55,
           "300%"
          ],
          [
           936.36,
           "183%"
          ],
          [
           366.52,
           "171%"
          ],
          [
           474.79,
           "55%"
          ],
          [
           4973.23,
           "188%"
          ],
          [
           4589.38,
           "185%"
          ],
          [
           303.36,
           "53%"
          ],
          [
           926.67,
           "86%"
          ],
          [
           294.64,
           "92%"
          ],
          [
           1725.37,
           "356%"
          ],
          [
           2960.94,
           "129%"
          ],
          [
           557.28,
           "176%"
          ],
          [
           1700.29,
           "99%"
          ],
          [
           -73.65,
           "-96%"
          ],
          [
           1703.51,
           "130%"
          ],
          [
           616.87,
           "133%"
          ],
          [
           266.99,
           "78%"
          ],
          [
           291.6,
           "98%"
          ],
          [
           2245.4,
           "338%"
          ],
          [
           325.61,
           "85%"
          ],
          [
           426.43,
           "93%"
          ],
          [
           4009.17,
           "279%"
          ],
          [
           4992.19,
           "150%"
          ],
          [
           647.98,
           "193%"
          ],
          [
           987.31,
           "209%"
          ],
          [
           971.61,
           "124%"
          ],
          [
           662.91,
           "126%"
          ],
          [
           12136.61,
           "386%"
          ],
          [
           4548.9,
           "222%"
          ],
          [
           3810.85,
           "134%"
          ],
          [
           744.95,
           "90%"
          ],
          [
           2143.65,
           "109%"
          ],
          [
           523.12,
           "74%"
          ],
          [
           2008.43,
           "268%"
          ],
          [
           482.79,
           "151%"
          ],
          [
           243.4,
           "58%"
          ],
          [
           -2941.56,
           "-84%"
          ],
          [
           514.92,
           "134%"
          ],
          [
           873.18,
           "260%"
          ],
          [
           2704.13,
           "287%"
          ],
          [
           815.19,
           "89%"
          ],
          [
           350.77,
           "117%"
          ],
          [
           231.47,
           "74%"
          ],
          [
           531.81,
           "28%"
          ],
          [
           3387.33,
           "344%"
          ],
          [
           10239.23,
           "147%"
          ],
          [
           151.14,
           "62%"
          ],
          [
           267.74,
           "118%"
          ],
          [
           1849.01,
           "197%"
          ],
          [
           1637.26,
           "131%"
          ],
          [
           146.4,
           "50%"
          ],
          [
           4867.04,
           "224%"
          ],
          [
           653.8,
           "119%"
          ],
          [
           345.07,
           "79%"
          ],
          [
           1764.79,
           "168%"
          ],
          [
           605.16,
           "56%"
          ],
          [
           417.33,
           "51%"
          ],
          [
           1358.34,
           "337%"
          ],
          [
           1248.16,
           "81%"
          ],
          [
           729.03,
           "185%"
          ],
          [
           249.88,
           "108%"
          ],
          [
           597.16,
           "268%"
          ],
          [
           751.54,
           "130%"
          ],
          [
           2354.48,
           "5926%"
          ],
          [
           486.43,
           "159%"
          ],
          [
           4044.46,
           "146%"
          ],
          [
           284.65,
           "51%"
          ],
          [
           4415.28,
           "188%"
          ],
          [
           433.34,
           "95%"
          ],
          [
           119.61,
           "48%"
          ],
          [
           454.47,
           "128%"
          ],
          [
           -57.6,
           "-95%"
          ],
          [
           1537.05,
           "194%"
          ],
          [
           6386.13,
           "175%"
          ],
          [
           1411.26,
           "57%"
          ],
          [
           445.67,
           "112%"
          ],
          [
           2890.88,
           "169%"
          ],
          [
           527.3,
           "97%"
          ],
          [
           2205.66,
           "197%"
          ],
          [
           261.23,
           "59%"
          ],
          [
           1092.46,
           "156%"
          ],
          [
           819.17,
           "175%"
          ],
          [
           691.48,
           "167%"
          ],
          [
           2710.56,
           "220%"
          ],
          [
           2379.76,
           "128%"
          ],
          [
           3277.19,
           "113%"
          ],
          [
           6923.58,
           "131%"
          ],
          [
           3414.38,
           "235%"
          ],
          [
           1496.75,
           "273%"
          ],
          [
           2672.61,
           "315%"
          ],
          [
           2709.48,
           "306%"
          ],
          [
           339.4,
           "147%"
          ],
          [
           2737.02,
           "113%"
          ],
          [
           960.44,
           "78%"
          ],
          [
           1386.85,
           "115%"
          ],
          [
           515.22,
           "90%"
          ],
          [
           629.55,
           "231%"
          ],
          [
           2075.88,
           "88%"
          ],
          [
           376.13,
           "120%"
          ],
          [
           1977.97,
           "274%"
          ],
          [
           1852.08,
           "101%"
          ],
          [
           175.13,
           "75%"
          ],
          [
           10433.37,
           "309%"
          ],
          [
           3986.84,
           "329%"
          ],
          [
           4518.68,
           "246%"
          ],
          [
           263.95,
           "59%"
          ],
          [
           208.94,
           "83%"
          ],
          [
           802.77,
           "101%"
          ],
          [
           53.46,
           "13%"
          ],
          [
           3718.79,
           "159%"
          ],
          [
           1249.02,
           "248%"
          ],
          [
           161.87,
           "30%"
          ],
          [
           1204.18,
           "131%"
          ],
          [
           5623.73,
           "209%"
          ],
          [
           6976.27,
           "182%"
          ],
          [
           185.73,
           "78%"
          ],
          [
           557.81,
           "229%"
          ],
          [
           1264.07,
           "184%"
          ],
          [
           455.08,
           "101%"
          ],
          [
           328.58,
           "113%"
          ],
          [
           -56.42,
           "-94%"
          ],
          [
           595.24,
           "82%"
          ],
          [
           1891.33,
           "163%"
          ],
          [
           744.01,
           "127%"
          ],
          [
           85.08,
           "19%"
          ],
          [
           392.33,
           "65%"
          ],
          [
           2217.37,
           "214%"
          ],
          [
           331.56,
           "139%"
          ],
          [
           1039.99,
           "192%"
          ],
          [
           2820.53,
           "36%"
          ],
          [
           3293.35,
           "149%"
          ],
          [
           333.17,
           "131%"
          ],
          [
           3700.96,
           "148%"
          ],
          [
           1888.8,
           "167%"
          ],
          [
           563.76,
           "158%"
          ],
          [
           246.08,
           "49%"
          ],
          [
           213.8,
           "98%"
          ],
          [
           994.54,
           "286%"
          ],
          [
           168.13,
           "72%"
          ],
          [
           335.33,
           "104%"
          ],
          [
           225.39,
           "67%"
          ]
         ],
         "hovertemplate": "Year=2021<br>country=%{x}<br>Value=%{y}<br>absolute_change=%{customdata[0]}<br>relative_change=%{customdata[1]}<extra></extra>",
         "legendgroup": "2021",
         "marker": {
          "color": "#EF553B",
          "pattern": {
           "shape": ""
          }
         },
         "name": "2021",
         "offsetgroup": "2021",
         "orientation": "v",
         "showlegend": true,
         "textposition": "auto",
         "type": "bar",
         "x": [
          "Afghanistan",
          "Albania",
          "Algeria",
          "American Samoa",
          "Andorra",
          "Angola",
          "Antigua and Barbuda",
          "Argentina",
          "Armenia",
          "Australia",
          "Austria",
          "Azerbaijan",
          "Bahamas",
          "Bahrain",
          "Bangladesh",
          "Barbados",
          "Belarus",
          "Belgium",
          "Belize",
          "Benin",
          "Bermuda",
          "Bhutan",
          "Bolivia (Plurinational State of)",
          "Bosnia and Herzegovina",
          "Botswana",
          "Brazil",
          "Brunei Darussalam",
          "Bulgaria",
          "Burkina Faso",
          "Burundi",
          "Cabo Verde",
          "Cambodia",
          "Cameroon",
          "Canada",
          "Central African Republic",
          "Chad",
          "Chile",
          "China",
          "China, Hong Kong SAR",
          "China, Macao SAR",
          "China, Taiwan Province of",
          "China, mainland",
          "Colombia",
          "Comoros",
          "Congo",
          "Cook Islands",
          "Costa Rica",
          "Croatia",
          "Cuba",
          "Cyprus",
          "Czechia",
          "Côte d'Ivoire",
          "Democratic People's Republic of Korea",
          "Democratic Republic of the Congo",
          "Denmark",
          "Djibouti",
          "Dominica",
          "Dominican Republic",
          "Ecuador",
          "Egypt",
          "El Salvador",
          "Equatorial Guinea",
          "Eritrea",
          "Estonia",
          "Eswatini",
          "Ethiopia",
          "Fiji",
          "Finland",
          "France",
          "French Polynesia",
          "Gabon",
          "Gambia",
          "Georgia",
          "Germany",
          "Ghana",
          "Greece",
          "Greenland",
          "Grenada",
          "Guatemala",
          "Guinea",
          "Guinea-Bissau",
          "Guyana",
          "Haiti",
          "Honduras",
          "Hungary",
          "Iceland",
          "India",
          "Indonesia",
          "Iran (Islamic Republic of)",
          "Iraq",
          "Ireland",
          "Israel",
          "Italy",
          "Jamaica",
          "Japan",
          "Jordan",
          "Kazakhstan",
          "Kenya",
          "Kiribati",
          "Kuwait",
          "Kyrgyzstan",
          "Lao People's Democratic Republic",
          "Latvia",
          "Lebanon",
          "Lesotho",
          "Liberia",
          "Libya",
          "Lithuania",
          "Luxembourg",
          "Madagascar",
          "Malawi",
          "Malaysia",
          "Maldives",
          "Mali",
          "Malta",
          "Marshall Islands",
          "Mauritania",
          "Mauritius",
          "Mexico",
          "Micronesia (Federated States of)",
          "Mongolia",
          "Montenegro",
          "Morocco",
          "Mozambique",
          "Myanmar",
          "Namibia",
          "Nauru",
          "Nepal",
          "Netherlands (Kingdom of the)",
          "New Caledonia",
          "New Zealand",
          "Nicaragua",
          "Niger",
          "Nigeria",
          "Niue",
          "North Macedonia",
          "Norway",
          "Oman",
          "Pakistan",
          "Palau",
          "Palestine",
          "Panama",
          "Papua New Guinea",
          "Paraguay",
          "Peru",
          "Philippines",
          "Poland",
          "Portugal",
          "Puerto Rico",
          "Qatar",
          "Republic of Korea",
          "Republic of Moldova",
          "Romania",
          "Russian Federation",
          "Rwanda",
          "Saint Kitts and Nevis",
          "Saint Lucia",
          "Saint Vincent and the Grenadines",
          "Samoa",
          "Sao Tome and Principe",
          "Saudi Arabia",
          "Senegal",
          "Serbia",
          "Seychelles",
          "Sierra Leone",
          "Singapore",
          "Slovakia",
          "Slovenia",
          "Solomon Islands",
          "Somalia",
          "South Africa",
          "South Sudan",
          "Spain",
          "Sri Lanka",
          "Sudan",
          "Suriname",
          "Sweden",
          "Switzerland",
          "Syrian Arab Republic",
          "Tajikistan",
          "Thailand",
          "Timor-Leste",
          "Togo",
          "Tokelau",
          "Tonga",
          "Trinidad and Tobago",
          "Tunisia",
          "Turkmenistan",
          "Tuvalu",
          "Türkiye",
          "Uganda",
          "Ukraine",
          "United Arab Emirates",
          "United Kingdom of Great Britain and Northern Ireland",
          "United Republic of Tanzania",
          "United States of America",
          "Uruguay",
          "Uzbekistan",
          "Vanuatu",
          "Venezuela (Bolivarian Republic of)",
          "Viet Nam",
          "Yemen",
          "Zambia",
          "Zimbabwe"
         ],
         "xaxis": "x",
         "y": [
          488.92545454545456,
          2105.6377777777775,
          1380.3063636363636,
          2.035,
          2.325,
          888.1954545454545,
          3916.296666666667,
          2352.46,
          2059.3133333333335,
          4931.571818181818,
          8375.44,
          1710.6636363636362,
          5772.393333333333,
          7690.588571428571,
          915.7209090909091,
          2021.913333333333,
          2680.9944444444445,
          6252.503333333333,
          1434.0166666666667,
          730.404,
          14112.561666666668,
          1894.125,
          1102.4654545454546,
          2237.3055555555557,
          1907.0990000000002,
          1725.469090909091,
          8054.79625,
          3202.273333333333,
          476.8046153846154,
          454.753,
          1307.0875,
          611.1800000000001,
          707.2227272727273,
          5817.06,
          472.16700000000003,
          412.03153846153845,
          2981.246,
          2776.775,
          9185.492857142857,
          9880.864285714286,
          874.9399999999999,
          3658.23,
          1718.2481818181818,
          807.0711111111111,
          725.905,
          3.02,
          2840.9544444444446,
          5151.7357142857145,
          485.68555555555554,
          6599.202857142858,
          5025.931111111111,
          669.0985714285714,
          478.86555555555555,
          446.9054545454546,
          8925.271428571428,
          1019.94,
          2173.6285714285714,
          2082.08,
          1349.0045454545455,
          1436.3936363636365,
          1323.3709999999999,
          2340.58,
          504.20750000000004,
          4808.44,
          1447.3666666666666,
          580.0218181818182,
          1334.7654545454545,
          7612.255714285714,
          7067.53,
          868.9219999999999,
          1992.0822222222223,
          613.9,
          2209.987777777778,
          5244.173636363636,
          873.380909090909,
          3404.8650000000002,
          2.45,
          3012.7000000000003,
          1077.6650000000002,
          605.0927272727273,
          587.211,
          2909.2144444444443,
          707.533,
          880.9627272727273,
          5441.111428571428,
          8305.582857142856,
          982.15,
          1459.0081818181818,
          1751.5581818181818,
          1187.5618181818181,
          15276.444285714286,
          6594.667142857143,
          6634.037142857143,
          1564.9411111111112,
          4099.955454545455,
          1225.9209090909092,
          2756.778181818182,
          802.0318181818183,
          661.7488888888888,
          557.45375,
          896.924,
          1208.53,
          3644.642,
          1723.4060000000002,
          648.5519999999999,
          541.5989999999999,
          2390.6827272727273,
          4369.943,
          17186.52,
          391.24357142857144,
          493.87999999999994,
          2784.7736363636363,
          2883.8875000000003,
          439.06,
          7030.717142857143,
          1200.1860000000001,
          781.7708333333334,
          2813.8900000000003,
          1672.072857142857,
          1229.4066666666665,
          1760.9133333333332,
          2780.1177777777775,
          1121.3899999999999,
          480.02181818181816,
          819.9159999999999,
          1327.8849999999998,
          2394.2059999999997,
          791.3720000000001,
          6804.838888888889,
          834.086,
          6763.647142857143,
          887.2436363636364,
          364.9507142857143,
          808.7545454545456,
          3.02,
          2328.96,
          10033.801428571429,
          3874.957,
          842.5481818181819,
          4596.456666666666,
          1068.02,
          3322.154,
          702.6636363636363,
          1790.9150000000002,
          1285.9884615384617,
          1105.1472727272726,
          3937.6760000000004,
          4234.667777777778,
          6172.756666666667,
          12194.48625,
          4861.762,
          2044.0244444444445,
          3520.1760000000004,
          3594.651111111111,
          569.0036363636364,
          5143.383333333333,
          2186.525,
          2592.425714285714,
          1083.5155555555557,
          901.0033333333333,
          4426.701818181818,
          688.5227272727273,
          2697.998888888889,
          3675.8222222222225,
          408.5364285714286,
          13803.665,
          5198.634285714286,
          6352.661428571429,
          704.7888888888889,
          459.4518181818182,
          1597.0245454545454,
          438.29,
          6053.427142857143,
          1751.136,
          700.3718181818182,
          2116.9166666666665,
          8304.368571428571,
          10797.137142857144,
          423.80999999999995,
          801.138,
          1949.5363636363638,
          904.5029999999999,
          618.891,
          3.02,
          1314.175,
          3044.7866666666664,
          1327.4645454545455,
          513.87625,
          987.6,
          3253.4818181818177,
          569.8636363636364,
          1580.7563636363636,
          10639.81142857143,
          5491.371111111111,
          587.3790909090908,
          6201.584545454545,
          3015.318888888889,
          920.4715384615386,
          743.5633333333333,
          431.092,
          1341.648181818182,
          400.944,
          655.7327272727272,
          559.4463636363636
         ],
         "yaxis": "y"
        }
       ],
       "layout": {
        "barmode": "group",
        "legend": {
         "title": {
          "text": "Year"
         },
         "tracegroupgap": 0
        },
        "template": {
         "data": {
          "bar": [
           {
            "error_x": {
             "color": "#2a3f5f"
            },
            "error_y": {
             "color": "#2a3f5f"
            },
            "marker": {
             "line": {
              "color": "#E5ECF6",
              "width": 0.5
             },
             "pattern": {
              "fillmode": "overlay",
              "size": 10,
              "solidity": 0.2
             }
            },
            "type": "bar"
           }
          ],
          "barpolar": [
           {
            "marker": {
             "line": {
              "color": "#E5ECF6",
              "width": 0.5
             },
             "pattern": {
              "fillmode": "overlay",
              "size": 10,
              "solidity": 0.2
             }
            },
            "type": "barpolar"
           }
          ],
          "carpet": [
           {
            "aaxis": {
             "endlinecolor": "#2a3f5f",
             "gridcolor": "white",
             "linecolor": "white",
             "minorgridcolor": "white",
             "startlinecolor": "#2a3f5f"
            },
            "baxis": {
             "endlinecolor": "#2a3f5f",
             "gridcolor": "white",
             "linecolor": "white",
             "minorgridcolor": "white",
             "startlinecolor": "#2a3f5f"
            },
            "type": "carpet"
           }
          ],
          "choropleth": [
           {
            "colorbar": {
             "outlinewidth": 0,
             "ticks": ""
            },
            "type": "choropleth"
           }
          ],
          "contour": [
           {
            "colorbar": {
             "outlinewidth": 0,
             "ticks": ""
            },
            "colorscale": [
             [
              0,
              "#0d0887"
             ],
             [
              0.1111111111111111,
              "#46039f"
             ],
             [
              0.2222222222222222,
              "#7201a8"
             ],
             [
              0.3333333333333333,
              "#9c179e"
             ],
             [
              0.4444444444444444,
              "#bd3786"
             ],
             [
              0.5555555555555556,
              "#d8576b"
             ],
             [
              0.6666666666666666,
              "#ed7953"
             ],
             [
              0.7777777777777778,
              "#fb9f3a"
             ],
             [
              0.8888888888888888,
              "#fdca26"
             ],
             [
              1,
              "#f0f921"
             ]
            ],
            "type": "contour"
           }
          ],
          "contourcarpet": [
           {
            "colorbar": {
             "outlinewidth": 0,
             "ticks": ""
            },
            "type": "contourcarpet"
           }
          ],
          "heatmap": [
           {
            "colorbar": {
             "outlinewidth": 0,
             "ticks": ""
            },
            "colorscale": [
             [
              0,
              "#0d0887"
             ],
             [
              0.1111111111111111,
              "#46039f"
             ],
             [
              0.2222222222222222,
              "#7201a8"
             ],
             [
              0.3333333333333333,
              "#9c179e"
             ],
             [
              0.4444444444444444,
              "#bd3786"
             ],
             [
              0.5555555555555556,
              "#d8576b"
             ],
             [
              0.6666666666666666,
              "#ed7953"
             ],
             [
              0.7777777777777778,
              "#fb9f3a"
             ],
             [
              0.8888888888888888,
              "#fdca26"
             ],
             [
              1,
              "#f0f921"
             ]
            ],
            "type": "heatmap"
           }
          ],
          "heatmapgl": [
           {
            "colorbar": {
             "outlinewidth": 0,
             "ticks": ""
            },
            "colorscale": [
             [
              0,
              "#0d0887"
             ],
             [
              0.1111111111111111,
              "#46039f"
             ],
             [
              0.2222222222222222,
              "#7201a8"
             ],
             [
              0.3333333333333333,
              "#9c179e"
             ],
             [
              0.4444444444444444,
              "#bd3786"
             ],
             [
              0.5555555555555556,
              "#d8576b"
             ],
             [
              0.6666666666666666,
              "#ed7953"
             ],
             [
              0.7777777777777778,
              "#fb9f3a"
             ],
             [
              0.8888888888888888,
              "#fdca26"
             ],
             [
              1,
              "#f0f921"
             ]
            ],
            "type": "heatmapgl"
           }
          ],
          "histogram": [
           {
            "marker": {
             "pattern": {
              "fillmode": "overlay",
              "size": 10,
              "solidity": 0.2
             }
            },
            "type": "histogram"
           }
          ],
          "histogram2d": [
           {
            "colorbar": {
             "outlinewidth": 0,
             "ticks": ""
            },
            "colorscale": [
             [
              0,
              "#0d0887"
             ],
             [
              0.1111111111111111,
              "#46039f"
             ],
             [
              0.2222222222222222,
              "#7201a8"
             ],
             [
              0.3333333333333333,
              "#9c179e"
             ],
             [
              0.4444444444444444,
              "#bd3786"
             ],
             [
              0.5555555555555556,
              "#d8576b"
             ],
             [
              0.6666666666666666,
              "#ed7953"
             ],
             [
              0.7777777777777778,
              "#fb9f3a"
             ],
             [
              0.8888888888888888,
              "#fdca26"
             ],
             [
              1,
              "#f0f921"
             ]
            ],
            "type": "histogram2d"
           }
          ],
          "histogram2dcontour": [
           {
            "colorbar": {
             "outlinewidth": 0,
             "ticks": ""
            },
            "colorscale": [
             [
              0,
              "#0d0887"
             ],
             [
              0.1111111111111111,
              "#46039f"
             ],
             [
              0.2222222222222222,
              "#7201a8"
             ],
             [
              0.3333333333333333,
              "#9c179e"
             ],
             [
              0.4444444444444444,
              "#bd3786"
             ],
             [
              0.5555555555555556,
              "#d8576b"
             ],
             [
              0.6666666666666666,
              "#ed7953"
             ],
             [
              0.7777777777777778,
              "#fb9f3a"
             ],
             [
              0.8888888888888888,
              "#fdca26"
             ],
             [
              1,
              "#f0f921"
             ]
            ],
            "type": "histogram2dcontour"
           }
          ],
          "mesh3d": [
           {
            "colorbar": {
             "outlinewidth": 0,
             "ticks": ""
            },
            "type": "mesh3d"
           }
          ],
          "parcoords": [
           {
            "line": {
             "colorbar": {
              "outlinewidth": 0,
              "ticks": ""
             }
            },
            "type": "parcoords"
           }
          ],
          "pie": [
           {
            "automargin": true,
            "type": "pie"
           }
          ],
          "scatter": [
           {
            "fillpattern": {
             "fillmode": "overlay",
             "size": 10,
             "solidity": 0.2
            },
            "type": "scatter"
           }
          ],
          "scatter3d": [
           {
            "line": {
             "colorbar": {
              "outlinewidth": 0,
              "ticks": ""
             }
            },
            "marker": {
             "colorbar": {
              "outlinewidth": 0,
              "ticks": ""
             }
            },
            "type": "scatter3d"
           }
          ],
          "scattercarpet": [
           {
            "marker": {
             "colorbar": {
              "outlinewidth": 0,
              "ticks": ""
             }
            },
            "type": "scattercarpet"
           }
          ],
          "scattergeo": [
           {
            "marker": {
             "colorbar": {
              "outlinewidth": 0,
              "ticks": ""
             }
            },
            "type": "scattergeo"
           }
          ],
          "scattergl": [
           {
            "marker": {
             "colorbar": {
              "outlinewidth": 0,
              "ticks": ""
             }
            },
            "type": "scattergl"
           }
          ],
          "scattermapbox": [
           {
            "marker": {
             "colorbar": {
              "outlinewidth": 0,
              "ticks": ""
             }
            },
            "type": "scattermapbox"
           }
          ],
          "scatterpolar": [
           {
            "marker": {
             "colorbar": {
              "outlinewidth": 0,
              "ticks": ""
             }
            },
            "type": "scatterpolar"
           }
          ],
          "scatterpolargl": [
           {
            "marker": {
             "colorbar": {
              "outlinewidth": 0,
              "ticks": ""
             }
            },
            "type": "scatterpolargl"
           }
          ],
          "scatterternary": [
           {
            "marker": {
             "colorbar": {
              "outlinewidth": 0,
              "ticks": ""
             }
            },
            "type": "scatterternary"
           }
          ],
          "surface": [
           {
            "colorbar": {
             "outlinewidth": 0,
             "ticks": ""
            },
            "colorscale": [
             [
              0,
              "#0d0887"
             ],
             [
              0.1111111111111111,
              "#46039f"
             ],
             [
              0.2222222222222222,
              "#7201a8"
             ],
             [
              0.3333333333333333,
              "#9c179e"
             ],
             [
              0.4444444444444444,
              "#bd3786"
             ],
             [
              0.5555555555555556,
              "#d8576b"
             ],
             [
              0.6666666666666666,
              "#ed7953"
             ],
             [
              0.7777777777777778,
              "#fb9f3a"
             ],
             [
              0.8888888888888888,
              "#fdca26"
             ],
             [
              1,
              "#f0f921"
             ]
            ],
            "type": "surface"
           }
          ],
          "table": [
           {
            "cells": {
             "fill": {
              "color": "#EBF0F8"
             },
             "line": {
              "color": "white"
             }
            },
            "header": {
             "fill": {
              "color": "#C8D4E3"
             },
             "line": {
              "color": "white"
             }
            },
            "type": "table"
           }
          ]
         },
         "layout": {
          "annotationdefaults": {
           "arrowcolor": "#2a3f5f",
           "arrowhead": 0,
           "arrowwidth": 1
          },
          "autotypenumbers": "strict",
          "coloraxis": {
           "colorbar": {
            "outlinewidth": 0,
            "ticks": ""
           }
          },
          "colorscale": {
           "diverging": [
            [
             0,
             "#8e0152"
            ],
            [
             0.1,
             "#c51b7d"
            ],
            [
             0.2,
             "#de77ae"
            ],
            [
             0.3,
             "#f1b6da"
            ],
            [
             0.4,
             "#fde0ef"
            ],
            [
             0.5,
             "#f7f7f7"
            ],
            [
             0.6,
             "#e6f5d0"
            ],
            [
             0.7,
             "#b8e186"
            ],
            [
             0.8,
             "#7fbc41"
            ],
            [
             0.9,
             "#4d9221"
            ],
            [
             1,
             "#276419"
            ]
           ],
           "sequential": [
            [
             0,
             "#0d0887"
            ],
            [
             0.1111111111111111,
             "#46039f"
            ],
            [
             0.2222222222222222,
             "#7201a8"
            ],
            [
             0.3333333333333333,
             "#9c179e"
            ],
            [
             0.4444444444444444,
             "#bd3786"
            ],
            [
             0.5555555555555556,
             "#d8576b"
            ],
            [
             0.6666666666666666,
             "#ed7953"
            ],
            [
             0.7777777777777778,
             "#fb9f3a"
            ],
            [
             0.8888888888888888,
             "#fdca26"
            ],
            [
             1,
             "#f0f921"
            ]
           ],
           "sequentialminus": [
            [
             0,
             "#0d0887"
            ],
            [
             0.1111111111111111,
             "#46039f"
            ],
            [
             0.2222222222222222,
             "#7201a8"
            ],
            [
             0.3333333333333333,
             "#9c179e"
            ],
            [
             0.4444444444444444,
             "#bd3786"
            ],
            [
             0.5555555555555556,
             "#d8576b"
            ],
            [
             0.6666666666666666,
             "#ed7953"
            ],
            [
             0.7777777777777778,
             "#fb9f3a"
            ],
            [
             0.8888888888888888,
             "#fdca26"
            ],
            [
             1,
             "#f0f921"
            ]
           ]
          },
          "colorway": [
           "#636efa",
           "#EF553B",
           "#00cc96",
           "#ab63fa",
           "#FFA15A",
           "#19d3f3",
           "#FF6692",
           "#B6E880",
           "#FF97FF",
           "#FECB52"
          ],
          "font": {
           "color": "#2a3f5f"
          },
          "geo": {
           "bgcolor": "white",
           "lakecolor": "white",
           "landcolor": "#E5ECF6",
           "showlakes": true,
           "showland": true,
           "subunitcolor": "white"
          },
          "hoverlabel": {
           "align": "left"
          },
          "hovermode": "closest",
          "mapbox": {
           "style": "light"
          },
          "paper_bgcolor": "white",
          "plot_bgcolor": "#E5ECF6",
          "polar": {
           "angularaxis": {
            "gridcolor": "white",
            "linecolor": "white",
            "ticks": ""
           },
           "bgcolor": "#E5ECF6",
           "radialaxis": {
            "gridcolor": "white",
            "linecolor": "white",
            "ticks": ""
           }
          },
          "scene": {
           "xaxis": {
            "backgroundcolor": "#E5ECF6",
            "gridcolor": "white",
            "gridwidth": 2,
            "linecolor": "white",
            "showbackground": true,
            "ticks": "",
            "zerolinecolor": "white"
           },
           "yaxis": {
            "backgroundcolor": "#E5ECF6",
            "gridcolor": "white",
            "gridwidth": 2,
            "linecolor": "white",
            "showbackground": true,
            "ticks": "",
            "zerolinecolor": "white"
           },
           "zaxis": {
            "backgroundcolor": "#E5ECF6",
            "gridcolor": "white",
            "gridwidth": 2,
            "linecolor": "white",
            "showbackground": true,
            "ticks": "",
            "zerolinecolor": "white"
           }
          },
          "shapedefaults": {
           "line": {
            "color": "#2a3f5f"
           }
          },
          "ternary": {
           "aaxis": {
            "gridcolor": "white",
            "linecolor": "white",
            "ticks": ""
           },
           "baxis": {
            "gridcolor": "white",
            "linecolor": "white",
            "ticks": ""
           },
           "bgcolor": "#E5ECF6",
           "caxis": {
            "gridcolor": "white",
            "linecolor": "white",
            "ticks": ""
           }
          },
          "title": {
           "x": 0.05
          },
          "xaxis": {
           "automargin": true,
           "gridcolor": "white",
           "linecolor": "white",
           "ticks": "",
           "title": {
            "standoff": 15
           },
           "zerolinecolor": "white",
           "zerolinewidth": 2
          },
          "yaxis": {
           "automargin": true,
           "gridcolor": "white",
           "linecolor": "white",
           "ticks": "",
           "title": {
            "standoff": 15
           },
           "zerolinecolor": "white",
           "zerolinewidth": 2
          }
         }
        },
        "title": {
         "text": "Comparison of Values in 2000 and 2021"
        },
        "xaxis": {
         "anchor": "y",
         "domain": [
          0,
          1
         ],
         "title": {
          "text": "country"
         }
        },
        "yaxis": {
         "anchor": "x",
         "domain": [
          0,
          1
         ],
         "title": {
          "text": "Value"
         }
        }
       }
      }
     },
     "metadata": {},
     "output_type": "display_data"
    }
   ],
   "source": [
    "fig = px.bar(df2, x='country', y=['2000', '2021'],\n",
    "             title='Comparison of Values in 2000 and 2021',\n",
    "             labels={'value': 'Value', 'variable': 'Year'},\n",
    "             hover_data={'absolute_change': True, 'relative_change': True},\n",
    "             barmode='group')\n",
    "\n",
    "fig.show()"
   ]
  },
  {
   "cell_type": "markdown",
   "metadata": {},
   "source": [
    "Number of children under 5 years of age who are stunted (modeled estimates) (million)"
   ]
  },
  {
   "cell_type": "code",
   "execution_count": 232,
   "metadata": {},
   "outputs": [
    {
     "name": "stdout",
     "output_type": "stream",
     "text": [
      "Exists\n"
     ]
    }
   ],
   "source": [
    "# check the item\n",
    "value_to_check = 'Number of children under 5 years of age who are stunted (modeled estimates) (million)'\n",
    "if value_to_check in df['item'].values:\n",
    "    print(\"Exists\")\n",
    "else:\n",
    "    print(\"Does not exist\")"
   ]
  },
  {
   "cell_type": "code",
   "execution_count": 236,
   "metadata": {},
   "outputs": [
    {
     "data": {
      "text/html": [
       "<div>\n",
       "<style scoped>\n",
       "    .dataframe tbody tr th:only-of-type {\n",
       "        vertical-align: middle;\n",
       "    }\n",
       "\n",
       "    .dataframe tbody tr th {\n",
       "        vertical-align: top;\n",
       "    }\n",
       "\n",
       "    .dataframe thead th {\n",
       "        text-align: right;\n",
       "    }\n",
       "</style>\n",
       "<table border=\"1\" class=\"dataframe\">\n",
       "  <thead>\n",
       "    <tr style=\"text-align: right;\">\n",
       "      <th></th>\n",
       "      <th>country</th>\n",
       "      <th>item</th>\n",
       "      <th>value</th>\n",
       "    </tr>\n",
       "  </thead>\n",
       "  <tbody>\n",
       "    <tr>\n",
       "      <th>0</th>\n",
       "      <td>Afghanistan</td>\n",
       "      <td>Number of children under 5 years of age who ar...</td>\n",
       "      <td>54.3</td>\n",
       "    </tr>\n",
       "    <tr>\n",
       "      <th>1</th>\n",
       "      <td>Albania</td>\n",
       "      <td>Number of children under 5 years of age who ar...</td>\n",
       "      <td>0.7</td>\n",
       "    </tr>\n",
       "    <tr>\n",
       "      <th>2</th>\n",
       "      <td>Algeria</td>\n",
       "      <td>Number of children under 5 years of age who ar...</td>\n",
       "      <td>11.9</td>\n",
       "    </tr>\n",
       "    <tr>\n",
       "      <th>3</th>\n",
       "      <td>Angola</td>\n",
       "      <td>Number of children under 5 years of age who ar...</td>\n",
       "      <td>38.8</td>\n",
       "    </tr>\n",
       "    <tr>\n",
       "      <th>4</th>\n",
       "      <td>Argentina</td>\n",
       "      <td>Number of children under 5 years of age who ar...</td>\n",
       "      <td>6.9</td>\n",
       "    </tr>\n",
       "  </tbody>\n",
       "</table>\n",
       "</div>"
      ],
      "text/plain": [
       "       country                                               item  value\n",
       "0  Afghanistan  Number of children under 5 years of age who ar...   54.3\n",
       "1      Albania  Number of children under 5 years of age who ar...    0.7\n",
       "2      Algeria  Number of children under 5 years of age who ar...   11.9\n",
       "3       Angola  Number of children under 5 years of age who ar...   38.8\n",
       "4    Argentina  Number of children under 5 years of age who ar...    6.9"
      ]
     },
     "execution_count": 236,
     "metadata": {},
     "output_type": "execute_result"
    }
   ],
   "source": [
    "# Number of children under 5 years of age who are stunted (modeled estimates) (million) \n",
    "df3 = df[df['item'] == 'Number of children under 5 years of age who are stunted (modeled estimates) (million)']\n",
    "# convert the value column to float\n",
    "df3['value'] = pd.to_numeric(df3['value'], errors='coerce')\n",
    "\n",
    "# group by country and item\n",
    "df3 = df3.groupby(['country', 'item'], as_index=False)['value'].sum()\n",
    "\n",
    "# round the value column\n",
    "# df3['value'] = df3['value'].round(2)\n",
    "df3.head()"
   ]
  },
  {
   "cell_type": "code",
   "execution_count": null,
   "metadata": {},
   "outputs": [],
   "source": [
    "# normalize the data"
   ]
  },
  {
   "cell_type": "code",
   "execution_count": 237,
   "metadata": {},
   "outputs": [
    {
     "data": {
      "application/vnd.plotly.v1+json": {
       "config": {
        "plotlyServerURL": "https://plot.ly"
       },
       "data": [
        {
         "coloraxis": "coloraxis",
         "geo": "geo",
         "hovertemplate": "<b>%{hovertext}</b><br><br>country=%{location}<br>value=%{z}<extra></extra>",
         "hovertext": [
          "Afghanistan",
          "Albania",
          "Algeria",
          "Angola",
          "Argentina",
          "Armenia",
          "Australia",
          "Azerbaijan",
          "Bahrain",
          "Bangladesh",
          "Barbados",
          "Belarus",
          "Belgium",
          "Belize",
          "Benin",
          "Bhutan",
          "Bolivia (Plurinational State of)",
          "Bosnia and Herzegovina",
          "Botswana",
          "Brazil",
          "Brunei Darussalam",
          "Bulgaria",
          "Burkina Faso",
          "Burundi",
          "Cabo Verde",
          "Cambodia",
          "Cameroon",
          "Central African Republic",
          "Chad",
          "Chile",
          "China",
          "Colombia",
          "Comoros",
          "Congo",
          "Costa Rica",
          "Cuba",
          "Czechia",
          "Côte d'Ivoire",
          "Democratic People's Republic of Korea",
          "Democratic Republic of the Congo",
          "Djibouti",
          "Dominican Republic",
          "Ecuador",
          "Egypt",
          "El Salvador",
          "Equatorial Guinea",
          "Eritrea",
          "Estonia",
          "Eswatini",
          "Ethiopia",
          "Fiji",
          "Gabon",
          "Gambia",
          "Georgia",
          "Germany",
          "Ghana",
          "Greece",
          "Guatemala",
          "Guinea",
          "Guinea-Bissau",
          "Guyana",
          "Haiti",
          "Honduras",
          "India",
          "Indonesia",
          "Iran (Islamic Republic of)",
          "Iraq",
          "Jamaica",
          "Japan",
          "Jordan",
          "Kazakhstan",
          "Kenya",
          "Kiribati",
          "Kuwait",
          "Kyrgyzstan",
          "Lao People's Democratic Republic",
          "Latvia",
          "Lebanon",
          "Lesotho",
          "Liberia",
          "Libya",
          "Lithuania",
          "Madagascar",
          "Malawi",
          "Malaysia",
          "Maldives",
          "Mali",
          "Marshall Islands",
          "Mauritania",
          "Mauritius",
          "Mexico",
          "Mongolia",
          "Montenegro",
          "Morocco",
          "Mozambique",
          "Myanmar",
          "Namibia",
          "Nauru",
          "Nepal",
          "Netherlands (Kingdom of the)",
          "Nicaragua",
          "Niger",
          "Nigeria",
          "North Macedonia",
          "Oman",
          "Pakistan",
          "Palestine",
          "Panama",
          "Papua New Guinea",
          "Paraguay",
          "Peru",
          "Philippines",
          "Poland",
          "Portugal",
          "Qatar",
          "Republic of Korea",
          "Republic of Moldova",
          "Romania",
          "Rwanda",
          "Saint Lucia",
          "Samoa",
          "Sao Tome and Principe",
          "Saudi Arabia",
          "Senegal",
          "Serbia",
          "Seychelles",
          "Sierra Leone",
          "Singapore",
          "Solomon Islands",
          "Somalia",
          "South Africa",
          "South Sudan",
          "Sri Lanka",
          "Sudan",
          "Suriname",
          "Syrian Arab Republic",
          "Tajikistan",
          "Thailand",
          "Timor-Leste",
          "Togo",
          "Tonga",
          "Trinidad and Tobago",
          "Tunisia",
          "Turkmenistan",
          "Tuvalu",
          "Türkiye",
          "Uganda",
          "Ukraine",
          "United Republic of Tanzania",
          "United States of America",
          "Uruguay",
          "Uzbekistan",
          "Vanuatu",
          "Venezuela (Bolivarian Republic of)",
          "Viet Nam",
          "Yemen",
          "Zambia",
          "Zimbabwe"
         ],
         "locationmode": "country names",
         "locations": [
          "Afghanistan",
          "Albania",
          "Algeria",
          "Angola",
          "Argentina",
          "Armenia",
          "Australia",
          "Azerbaijan",
          "Bahrain",
          "Bangladesh",
          "Barbados",
          "Belarus",
          "Belgium",
          "Belize",
          "Benin",
          "Bhutan",
          "Bolivia (Plurinational State of)",
          "Bosnia and Herzegovina",
          "Botswana",
          "Brazil",
          "Brunei Darussalam",
          "Bulgaria",
          "Burkina Faso",
          "Burundi",
          "Cabo Verde",
          "Cambodia",
          "Cameroon",
          "Central African Republic",
          "Chad",
          "Chile",
          "China",
          "Colombia",
          "Comoros",
          "Congo",
          "Costa Rica",
          "Cuba",
          "Czechia",
          "Côte d'Ivoire",
          "Democratic People's Republic of Korea",
          "Democratic Republic of the Congo",
          "Djibouti",
          "Dominican Republic",
          "Ecuador",
          "Egypt",
          "El Salvador",
          "Equatorial Guinea",
          "Eritrea",
          "Estonia",
          "Eswatini",
          "Ethiopia",
          "Fiji",
          "Gabon",
          "Gambia",
          "Georgia",
          "Germany",
          "Ghana",
          "Greece",
          "Guatemala",
          "Guinea",
          "Guinea-Bissau",
          "Guyana",
          "Haiti",
          "Honduras",
          "India",
          "Indonesia",
          "Iran (Islamic Republic of)",
          "Iraq",
          "Jamaica",
          "Japan",
          "Jordan",
          "Kazakhstan",
          "Kenya",
          "Kiribati",
          "Kuwait",
          "Kyrgyzstan",
          "Lao People's Democratic Republic",
          "Latvia",
          "Lebanon",
          "Lesotho",
          "Liberia",
          "Libya",
          "Lithuania",
          "Madagascar",
          "Malawi",
          "Malaysia",
          "Maldives",
          "Mali",
          "Marshall Islands",
          "Mauritania",
          "Mauritius",
          "Mexico",
          "Mongolia",
          "Montenegro",
          "Morocco",
          "Mozambique",
          "Myanmar",
          "Namibia",
          "Nauru",
          "Nepal",
          "Netherlands (Kingdom of the)",
          "Nicaragua",
          "Niger",
          "Nigeria",
          "North Macedonia",
          "Oman",
          "Pakistan",
          "Palestine",
          "Panama",
          "Papua New Guinea",
          "Paraguay",
          "Peru",
          "Philippines",
          "Poland",
          "Portugal",
          "Qatar",
          "Republic of Korea",
          "Republic of Moldova",
          "Romania",
          "Rwanda",
          "Saint Lucia",
          "Samoa",
          "Sao Tome and Principe",
          "Saudi Arabia",
          "Senegal",
          "Serbia",
          "Seychelles",
          "Sierra Leone",
          "Singapore",
          "Solomon Islands",
          "Somalia",
          "South Africa",
          "South Sudan",
          "Sri Lanka",
          "Sudan",
          "Suriname",
          "Syrian Arab Republic",
          "Tajikistan",
          "Thailand",
          "Timor-Leste",
          "Togo",
          "Tonga",
          "Trinidad and Tobago",
          "Tunisia",
          "Turkmenistan",
          "Tuvalu",
          "Türkiye",
          "Uganda",
          "Ukraine",
          "United Republic of Tanzania",
          "United States of America",
          "Uruguay",
          "Uzbekistan",
          "Vanuatu",
          "Venezuela (Bolivarian Republic of)",
          "Viet Nam",
          "Yemen",
          "Zambia",
          "Zimbabwe"
         ],
         "name": "",
         "type": "choropleth",
         "z": [
          54.3,
          0.7000000000000001,
          11.9,
          38.8,
          6.8999999999999995,
          0,
          0.9,
          3.7,
          0,
          150.8,
          0,
          0,
          0,
          0,
          13.2,
          0,
          6.3,
          0,
          2.3000000000000003,
          25.6,
          0,
          0,
          22.2,
          23,
          0,
          13.2,
          26.4,
          8.1,
          21.8,
          0,
          187.5,
          12.1,
          0,
          4.3,
          0,
          0.7000000000000001,
          0,
          24.2,
          12.4,
          129.9,
          0,
          2.3000000000000003,
          8.700000000000001,
          59.3,
          2.9000000000000004,
          0.5,
          5.6,
          0,
          0.7000000000000001,
          153.7,
          0,
          0,
          2.3000000000000003,
          0,
          1.1,
          19.7,
          0,
          21.5,
          13.299999999999999,
          2.3000000000000003,
          0,
          7.1,
          6.2,
          1221.4,
          188,
          10.3,
          22.7,
          0,
          8.2,
          2.3000000000000003,
          4,
          43.9,
          0,
          0,
          2.4000000000000004,
          7.4,
          0,
          1.7000000000000002,
          2.3000000000000003,
          5,
          4.7,
          0,
          38.5,
          27.2,
          11.4,
          0,
          22.2,
          0,
          4.6000000000000005,
          0,
          37.8,
          0.8,
          0,
          12.9,
          41,
          36,
          2.3000000000000003,
          0,
          30.6,
          0,
          2.8000000000000003,
          39.7,
          252.4,
          0,
          0.6000000000000001,
          263.4,
          2.3000000000000003,
          2.3000000000000003,
          11.3,
          1.4000000000000001,
          14.2,
          84,
          0.30000000000000004,
          0,
          0,
          0.7000000000000001,
          0,
          2.4000000000000004,
          15.6,
          0,
          0,
          0,
          8.2,
          9.4,
          0,
          0,
          8.4,
          0,
          0,
          15,
          29.400000000000002,
          11.6,
          6.8,
          47.9,
          0,
          15.9,
          6.7,
          13.4,
          2.3000000000000003,
          6.8999999999999995,
          0,
          0,
          2.3000000000000003,
          2.1,
          0,
          16.6,
          48.4,
          8.8,
          73.2,
          12.9,
          0,
          10.6,
          0,
          8.9,
          46.4,
          43.8,
          24.1,
          14.399999999999999
         ]
        }
       ],
       "layout": {
        "coloraxis": {
         "colorbar": {
          "title": {
           "text": "value"
          }
         },
         "colorscale": [
          [
           0,
           "#0d0887"
          ],
          [
           0.1111111111111111,
           "#46039f"
          ],
          [
           0.2222222222222222,
           "#7201a8"
          ],
          [
           0.3333333333333333,
           "#9c179e"
          ],
          [
           0.4444444444444444,
           "#bd3786"
          ],
          [
           0.5555555555555556,
           "#d8576b"
          ],
          [
           0.6666666666666666,
           "#ed7953"
          ],
          [
           0.7777777777777778,
           "#fb9f3a"
          ],
          [
           0.8888888888888888,
           "#fdca26"
          ],
          [
           1,
           "#f0f921"
          ]
         ]
        },
        "geo": {
         "center": {},
         "domain": {
          "x": [
           0,
           1
          ],
          "y": [
           0,
           1
          ]
         }
        },
        "height": 800,
        "legend": {
         "tracegroupgap": 0
        },
        "template": {
         "data": {
          "bar": [
           {
            "error_x": {
             "color": "#2a3f5f"
            },
            "error_y": {
             "color": "#2a3f5f"
            },
            "marker": {
             "line": {
              "color": "#E5ECF6",
              "width": 0.5
             },
             "pattern": {
              "fillmode": "overlay",
              "size": 10,
              "solidity": 0.2
             }
            },
            "type": "bar"
           }
          ],
          "barpolar": [
           {
            "marker": {
             "line": {
              "color": "#E5ECF6",
              "width": 0.5
             },
             "pattern": {
              "fillmode": "overlay",
              "size": 10,
              "solidity": 0.2
             }
            },
            "type": "barpolar"
           }
          ],
          "carpet": [
           {
            "aaxis": {
             "endlinecolor": "#2a3f5f",
             "gridcolor": "white",
             "linecolor": "white",
             "minorgridcolor": "white",
             "startlinecolor": "#2a3f5f"
            },
            "baxis": {
             "endlinecolor": "#2a3f5f",
             "gridcolor": "white",
             "linecolor": "white",
             "minorgridcolor": "white",
             "startlinecolor": "#2a3f5f"
            },
            "type": "carpet"
           }
          ],
          "choropleth": [
           {
            "colorbar": {
             "outlinewidth": 0,
             "ticks": ""
            },
            "type": "choropleth"
           }
          ],
          "contour": [
           {
            "colorbar": {
             "outlinewidth": 0,
             "ticks": ""
            },
            "colorscale": [
             [
              0,
              "#0d0887"
             ],
             [
              0.1111111111111111,
              "#46039f"
             ],
             [
              0.2222222222222222,
              "#7201a8"
             ],
             [
              0.3333333333333333,
              "#9c179e"
             ],
             [
              0.4444444444444444,
              "#bd3786"
             ],
             [
              0.5555555555555556,
              "#d8576b"
             ],
             [
              0.6666666666666666,
              "#ed7953"
             ],
             [
              0.7777777777777778,
              "#fb9f3a"
             ],
             [
              0.8888888888888888,
              "#fdca26"
             ],
             [
              1,
              "#f0f921"
             ]
            ],
            "type": "contour"
           }
          ],
          "contourcarpet": [
           {
            "colorbar": {
             "outlinewidth": 0,
             "ticks": ""
            },
            "type": "contourcarpet"
           }
          ],
          "heatmap": [
           {
            "colorbar": {
             "outlinewidth": 0,
             "ticks": ""
            },
            "colorscale": [
             [
              0,
              "#0d0887"
             ],
             [
              0.1111111111111111,
              "#46039f"
             ],
             [
              0.2222222222222222,
              "#7201a8"
             ],
             [
              0.3333333333333333,
              "#9c179e"
             ],
             [
              0.4444444444444444,
              "#bd3786"
             ],
             [
              0.5555555555555556,
              "#d8576b"
             ],
             [
              0.6666666666666666,
              "#ed7953"
             ],
             [
              0.7777777777777778,
              "#fb9f3a"
             ],
             [
              0.8888888888888888,
              "#fdca26"
             ],
             [
              1,
              "#f0f921"
             ]
            ],
            "type": "heatmap"
           }
          ],
          "heatmapgl": [
           {
            "colorbar": {
             "outlinewidth": 0,
             "ticks": ""
            },
            "colorscale": [
             [
              0,
              "#0d0887"
             ],
             [
              0.1111111111111111,
              "#46039f"
             ],
             [
              0.2222222222222222,
              "#7201a8"
             ],
             [
              0.3333333333333333,
              "#9c179e"
             ],
             [
              0.4444444444444444,
              "#bd3786"
             ],
             [
              0.5555555555555556,
              "#d8576b"
             ],
             [
              0.6666666666666666,
              "#ed7953"
             ],
             [
              0.7777777777777778,
              "#fb9f3a"
             ],
             [
              0.8888888888888888,
              "#fdca26"
             ],
             [
              1,
              "#f0f921"
             ]
            ],
            "type": "heatmapgl"
           }
          ],
          "histogram": [
           {
            "marker": {
             "pattern": {
              "fillmode": "overlay",
              "size": 10,
              "solidity": 0.2
             }
            },
            "type": "histogram"
           }
          ],
          "histogram2d": [
           {
            "colorbar": {
             "outlinewidth": 0,
             "ticks": ""
            },
            "colorscale": [
             [
              0,
              "#0d0887"
             ],
             [
              0.1111111111111111,
              "#46039f"
             ],
             [
              0.2222222222222222,
              "#7201a8"
             ],
             [
              0.3333333333333333,
              "#9c179e"
             ],
             [
              0.4444444444444444,
              "#bd3786"
             ],
             [
              0.5555555555555556,
              "#d8576b"
             ],
             [
              0.6666666666666666,
              "#ed7953"
             ],
             [
              0.7777777777777778,
              "#fb9f3a"
             ],
             [
              0.8888888888888888,
              "#fdca26"
             ],
             [
              1,
              "#f0f921"
             ]
            ],
            "type": "histogram2d"
           }
          ],
          "histogram2dcontour": [
           {
            "colorbar": {
             "outlinewidth": 0,
             "ticks": ""
            },
            "colorscale": [
             [
              0,
              "#0d0887"
             ],
             [
              0.1111111111111111,
              "#46039f"
             ],
             [
              0.2222222222222222,
              "#7201a8"
             ],
             [
              0.3333333333333333,
              "#9c179e"
             ],
             [
              0.4444444444444444,
              "#bd3786"
             ],
             [
              0.5555555555555556,
              "#d8576b"
             ],
             [
              0.6666666666666666,
              "#ed7953"
             ],
             [
              0.7777777777777778,
              "#fb9f3a"
             ],
             [
              0.8888888888888888,
              "#fdca26"
             ],
             [
              1,
              "#f0f921"
             ]
            ],
            "type": "histogram2dcontour"
           }
          ],
          "mesh3d": [
           {
            "colorbar": {
             "outlinewidth": 0,
             "ticks": ""
            },
            "type": "mesh3d"
           }
          ],
          "parcoords": [
           {
            "line": {
             "colorbar": {
              "outlinewidth": 0,
              "ticks": ""
             }
            },
            "type": "parcoords"
           }
          ],
          "pie": [
           {
            "automargin": true,
            "type": "pie"
           }
          ],
          "scatter": [
           {
            "fillpattern": {
             "fillmode": "overlay",
             "size": 10,
             "solidity": 0.2
            },
            "type": "scatter"
           }
          ],
          "scatter3d": [
           {
            "line": {
             "colorbar": {
              "outlinewidth": 0,
              "ticks": ""
             }
            },
            "marker": {
             "colorbar": {
              "outlinewidth": 0,
              "ticks": ""
             }
            },
            "type": "scatter3d"
           }
          ],
          "scattercarpet": [
           {
            "marker": {
             "colorbar": {
              "outlinewidth": 0,
              "ticks": ""
             }
            },
            "type": "scattercarpet"
           }
          ],
          "scattergeo": [
           {
            "marker": {
             "colorbar": {
              "outlinewidth": 0,
              "ticks": ""
             }
            },
            "type": "scattergeo"
           }
          ],
          "scattergl": [
           {
            "marker": {
             "colorbar": {
              "outlinewidth": 0,
              "ticks": ""
             }
            },
            "type": "scattergl"
           }
          ],
          "scattermapbox": [
           {
            "marker": {
             "colorbar": {
              "outlinewidth": 0,
              "ticks": ""
             }
            },
            "type": "scattermapbox"
           }
          ],
          "scatterpolar": [
           {
            "marker": {
             "colorbar": {
              "outlinewidth": 0,
              "ticks": ""
             }
            },
            "type": "scatterpolar"
           }
          ],
          "scatterpolargl": [
           {
            "marker": {
             "colorbar": {
              "outlinewidth": 0,
              "ticks": ""
             }
            },
            "type": "scatterpolargl"
           }
          ],
          "scatterternary": [
           {
            "marker": {
             "colorbar": {
              "outlinewidth": 0,
              "ticks": ""
             }
            },
            "type": "scatterternary"
           }
          ],
          "surface": [
           {
            "colorbar": {
             "outlinewidth": 0,
             "ticks": ""
            },
            "colorscale": [
             [
              0,
              "#0d0887"
             ],
             [
              0.1111111111111111,
              "#46039f"
             ],
             [
              0.2222222222222222,
              "#7201a8"
             ],
             [
              0.3333333333333333,
              "#9c179e"
             ],
             [
              0.4444444444444444,
              "#bd3786"
             ],
             [
              0.5555555555555556,
              "#d8576b"
             ],
             [
              0.6666666666666666,
              "#ed7953"
             ],
             [
              0.7777777777777778,
              "#fb9f3a"
             ],
             [
              0.8888888888888888,
              "#fdca26"
             ],
             [
              1,
              "#f0f921"
             ]
            ],
            "type": "surface"
           }
          ],
          "table": [
           {
            "cells": {
             "fill": {
              "color": "#EBF0F8"
             },
             "line": {
              "color": "white"
             }
            },
            "header": {
             "fill": {
              "color": "#C8D4E3"
             },
             "line": {
              "color": "white"
             }
            },
            "type": "table"
           }
          ]
         },
         "layout": {
          "annotationdefaults": {
           "arrowcolor": "#2a3f5f",
           "arrowhead": 0,
           "arrowwidth": 1
          },
          "autotypenumbers": "strict",
          "coloraxis": {
           "colorbar": {
            "outlinewidth": 0,
            "ticks": ""
           }
          },
          "colorscale": {
           "diverging": [
            [
             0,
             "#8e0152"
            ],
            [
             0.1,
             "#c51b7d"
            ],
            [
             0.2,
             "#de77ae"
            ],
            [
             0.3,
             "#f1b6da"
            ],
            [
             0.4,
             "#fde0ef"
            ],
            [
             0.5,
             "#f7f7f7"
            ],
            [
             0.6,
             "#e6f5d0"
            ],
            [
             0.7,
             "#b8e186"
            ],
            [
             0.8,
             "#7fbc41"
            ],
            [
             0.9,
             "#4d9221"
            ],
            [
             1,
             "#276419"
            ]
           ],
           "sequential": [
            [
             0,
             "#0d0887"
            ],
            [
             0.1111111111111111,
             "#46039f"
            ],
            [
             0.2222222222222222,
             "#7201a8"
            ],
            [
             0.3333333333333333,
             "#9c179e"
            ],
            [
             0.4444444444444444,
             "#bd3786"
            ],
            [
             0.5555555555555556,
             "#d8576b"
            ],
            [
             0.6666666666666666,
             "#ed7953"
            ],
            [
             0.7777777777777778,
             "#fb9f3a"
            ],
            [
             0.8888888888888888,
             "#fdca26"
            ],
            [
             1,
             "#f0f921"
            ]
           ],
           "sequentialminus": [
            [
             0,
             "#0d0887"
            ],
            [
             0.1111111111111111,
             "#46039f"
            ],
            [
             0.2222222222222222,
             "#7201a8"
            ],
            [
             0.3333333333333333,
             "#9c179e"
            ],
            [
             0.4444444444444444,
             "#bd3786"
            ],
            [
             0.5555555555555556,
             "#d8576b"
            ],
            [
             0.6666666666666666,
             "#ed7953"
            ],
            [
             0.7777777777777778,
             "#fb9f3a"
            ],
            [
             0.8888888888888888,
             "#fdca26"
            ],
            [
             1,
             "#f0f921"
            ]
           ]
          },
          "colorway": [
           "#636efa",
           "#EF553B",
           "#00cc96",
           "#ab63fa",
           "#FFA15A",
           "#19d3f3",
           "#FF6692",
           "#B6E880",
           "#FF97FF",
           "#FECB52"
          ],
          "font": {
           "color": "#2a3f5f"
          },
          "geo": {
           "bgcolor": "white",
           "lakecolor": "white",
           "landcolor": "#E5ECF6",
           "showlakes": true,
           "showland": true,
           "subunitcolor": "white"
          },
          "hoverlabel": {
           "align": "left"
          },
          "hovermode": "closest",
          "mapbox": {
           "style": "light"
          },
          "paper_bgcolor": "white",
          "plot_bgcolor": "#E5ECF6",
          "polar": {
           "angularaxis": {
            "gridcolor": "white",
            "linecolor": "white",
            "ticks": ""
           },
           "bgcolor": "#E5ECF6",
           "radialaxis": {
            "gridcolor": "white",
            "linecolor": "white",
            "ticks": ""
           }
          },
          "scene": {
           "xaxis": {
            "backgroundcolor": "#E5ECF6",
            "gridcolor": "white",
            "gridwidth": 2,
            "linecolor": "white",
            "showbackground": true,
            "ticks": "",
            "zerolinecolor": "white"
           },
           "yaxis": {
            "backgroundcolor": "#E5ECF6",
            "gridcolor": "white",
            "gridwidth": 2,
            "linecolor": "white",
            "showbackground": true,
            "ticks": "",
            "zerolinecolor": "white"
           },
           "zaxis": {
            "backgroundcolor": "#E5ECF6",
            "gridcolor": "white",
            "gridwidth": 2,
            "linecolor": "white",
            "showbackground": true,
            "ticks": "",
            "zerolinecolor": "white"
           }
          },
          "shapedefaults": {
           "line": {
            "color": "#2a3f5f"
           }
          },
          "ternary": {
           "aaxis": {
            "gridcolor": "white",
            "linecolor": "white",
            "ticks": ""
           },
           "baxis": {
            "gridcolor": "white",
            "linecolor": "white",
            "ticks": ""
           },
           "bgcolor": "#E5ECF6",
           "caxis": {
            "gridcolor": "white",
            "linecolor": "white",
            "ticks": ""
           }
          },
          "title": {
           "x": 0.05
          },
          "xaxis": {
           "automargin": true,
           "gridcolor": "white",
           "linecolor": "white",
           "ticks": "",
           "title": {
            "standoff": 15
           },
           "zerolinecolor": "white",
           "zerolinewidth": 2
          },
          "yaxis": {
           "automargin": true,
           "gridcolor": "white",
           "linecolor": "white",
           "ticks": "",
           "title": {
            "standoff": 15
           },
           "zerolinecolor": "white",
           "zerolinewidth": 2
          }
         }
        },
        "title": {
         "text": "Number of children under 5 years of age who are stunted (modeled estimates) (million)"
        },
        "width": 1000
       }
      }
     },
     "metadata": {},
     "output_type": "display_data"
    }
   ],
   "source": [
    "# choropleth\n",
    "fig = px.choropleth(df3, locations = 'country',\n",
    "                    locationmode='country names',\n",
    "                    color=\"value\",\n",
    "                    hover_name = 'country',\n",
    "                    title = 'Number of children under 5 years of age who are stunted (modeled estimates) (million)',\n",
    "                    color_continuous_scale=px.colors.sequential.Plasma\n",
    "                    )\n",
    "fig.update_layout(width=1000, height=800)\n",
    "fig.show()"
   ]
  },
  {
   "cell_type": "code",
   "execution_count": 238,
   "metadata": {},
   "outputs": [],
   "source": [
    "# import highchart classes\n",
    "from highcharts_core.chart import Chart\n",
    "from highcharts_core.global_options.shared_options import SharedOptions\n",
    "from highcharts_core.options import HighchartsOptions\n",
    "from highcharts_core.options.plot_options.bar import BarOptions\n",
    "from highcharts_core.options.series.bar import BarSeries"
   ]
  }
 ],
 "metadata": {
  "kernelspec": {
   "display_name": "Python 3",
   "language": "python",
   "name": "python3"
  },
  "language_info": {
   "codemirror_mode": {
    "name": "ipython",
    "version": 3
   },
   "file_extension": ".py",
   "mimetype": "text/x-python",
   "name": "python",
   "nbconvert_exporter": "python",
   "pygments_lexer": "ipython3",
   "version": "3.11.8"
  }
 },
 "nbformat": 4,
 "nbformat_minor": 2
}
